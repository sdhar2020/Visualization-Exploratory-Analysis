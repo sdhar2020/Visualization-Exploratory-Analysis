{
  "nbformat": 4,
  "nbformat_minor": 0,
  "metadata": {
    "anaconda-cloud": {},
    "kernelspec": {
      "display_name": "Python [conda env:envdq]",
      "language": "python",
      "name": "conda-env-envdq-py"
    },
    "language_info": {
      "codemirror_mode": {
        "name": "ipython",
        "version": 3
      },
      "file_extension": ".py",
      "mimetype": "text/x-python",
      "name": "python",
      "nbconvert_exporter": "python",
      "pygments_lexer": "ipython3",
      "version": "3.4.5"
    },
    "colab": {
      "name": "Researching US birth.ipynb",
      "provenance": [],
      "include_colab_link": true
    }
  },
  "cells": [
    {
      "cell_type": "markdown",
      "metadata": {
        "id": "view-in-github",
        "colab_type": "text"
      },
      "source": [
        "<a href=\"https://colab.research.google.com/github/sdhar2020/Visualization-Exploratory-Analysis/blob/master/Researching_US_birth.ipynb\" target=\"_parent\"><img src=\"https://colab.research.google.com/assets/colab-badge.svg\" alt=\"Open In Colab\"/></a>"
      ]
    },
    {
      "cell_type": "markdown",
      "metadata": {
        "collapsed": false,
        "id": "FF6KlplG1eO8",
        "colab_type": "text"
      },
      "source": [
        "# Introduction To The Dataset"
      ]
    },
    {
      "cell_type": "code",
      "metadata": {
        "id": "WoGZQyzUqkxZ",
        "colab_type": "code",
        "colab": {}
      },
      "source": [
        "dlink= 'https://raw.githubusercontent.com/fivethirtyeight/data/master/births/US_births_1994-2003_CDC_NCHS.csv'"
      ],
      "execution_count": 8,
      "outputs": []
    },
    {
      "cell_type": "code",
      "metadata": {
        "id": "0y3X90dA5xok",
        "colab_type": "code",
        "colab": {}
      },
      "source": [
        "import requests\n",
        "f = requests.get(dlink)\n",
        "csv_list=f.text.split('\\r')"
      ],
      "execution_count": 17,
      "outputs": []
    },
    {
      "cell_type": "code",
      "metadata": {
        "id": "RD-aEzFf51Gd",
        "colab_type": "code",
        "colab": {
          "base_uri": "https://localhost:8080/",
          "height": 182
        },
        "outputId": "59ba9b14-093b-4ff2-f407-45936875004b"
      },
      "source": [
        "csv_list[1:10]"
      ],
      "execution_count": 20,
      "outputs": [
        {
          "output_type": "execute_result",
          "data": {
            "text/plain": [
              "['1994,1,1,6,8096',\n",
              " '1994,1,2,7,7772',\n",
              " '1994,1,3,1,10142',\n",
              " '1994,1,4,2,11248',\n",
              " '1994,1,5,3,11053',\n",
              " '1994,1,6,4,11406',\n",
              " '1994,1,7,5,11251',\n",
              " '1994,1,8,6,8653',\n",
              " '1994,1,9,7,7910']"
            ]
          },
          "metadata": {
            "tags": []
          },
          "execution_count": 20
        }
      ]
    },
    {
      "cell_type": "code",
      "metadata": {
        "id": "HYpz4nZG1UCv",
        "colab_type": "code",
        "colab": {}
      },
      "source": [
        "def read_list_raw(dlink):\n",
        "  f = requests.get(dlink)\n",
        "  csv_list=f.text.split('\\r')\n",
        "  return(csv_list)"
      ],
      "execution_count": 25,
      "outputs": []
    },
    {
      "cell_type": "markdown",
      "metadata": {
        "id": "ERm7UgJD1ePc",
        "colab_type": "text"
      },
      "source": [
        "# Converting Data Into A List Of Lists"
      ]
    },
    {
      "cell_type": "code",
      "metadata": {
        "id": "ab1sFE9v1ePe",
        "colab_type": "code",
        "colab": {}
      },
      "source": [
        "def read_csv(filename):\n",
        "    string_list=read_list_raw(filename)[1:]\n",
        "    final_list = []\n",
        "    \n",
        "    for row in string_list:\n",
        "        string_fields = row.split(\",\")\n",
        "        int_fields = []\n",
        "        for value in string_fields:\n",
        "            int_fields.append(int(value))\n",
        "        final_list.append(int_fields)\n",
        "    return(final_list)\n",
        "        \n",
        "cdc_list = read_csv(dlink)"
      ],
      "execution_count": 26,
      "outputs": []
    },
    {
      "cell_type": "code",
      "metadata": {
        "id": "43l-MukD1ePn",
        "colab_type": "code",
        "colab": {
          "base_uri": "https://localhost:8080/",
          "height": 201
        },
        "outputId": "888050ec-e11d-4ff5-cb45-9435d6014315"
      },
      "source": [
        "cdc_list[0:10]"
      ],
      "execution_count": 27,
      "outputs": [
        {
          "output_type": "execute_result",
          "data": {
            "text/plain": [
              "[[1994, 1, 1, 6, 8096],\n",
              " [1994, 1, 2, 7, 7772],\n",
              " [1994, 1, 3, 1, 10142],\n",
              " [1994, 1, 4, 2, 11248],\n",
              " [1994, 1, 5, 3, 11053],\n",
              " [1994, 1, 6, 4, 11406],\n",
              " [1994, 1, 7, 5, 11251],\n",
              " [1994, 1, 8, 6, 8653],\n",
              " [1994, 1, 9, 7, 7910],\n",
              " [1994, 1, 10, 1, 10498]]"
            ]
          },
          "metadata": {
            "tags": []
          },
          "execution_count": 27
        }
      ]
    },
    {
      "cell_type": "markdown",
      "metadata": {
        "id": "TA0aIymE1ePv",
        "colab_type": "text"
      },
      "source": [
        "# Calculating Number Of Births Each Month"
      ]
    },
    {
      "cell_type": "code",
      "metadata": {
        "id": "nBbPHhpg1ePx",
        "colab_type": "code",
        "colab": {}
      },
      "source": [
        "def read_csv(filename):\n",
        "    string_list= read_list_raw(filename)[1:]\n",
        "    final_list = []\n",
        "    \n",
        "    for row in string_list:\n",
        "        string_fields = row.split(\",\")\n",
        "        int_fields = []\n",
        "        for value in string_fields:\n",
        "            int_fields.append(int(value))\n",
        "        final_list.append(int_fields)\n",
        "    return final_list\n",
        "        \n",
        "cdc_list = read_csv(dlink)\n",
        "\n",
        "\n",
        "def month_births(data):\n",
        "    births_per_month = {}\n",
        "    \n",
        "    for row in data:\n",
        "        month = row[1]\n",
        "        births = row[4]\n",
        "        if month in births_per_month:\n",
        "            births_per_month[month] = births_per_month[month] + births\n",
        "        else:\n",
        "            births_per_month[month] = births\n",
        "    return births_per_month\n",
        "    \n",
        "cdc_month_births = month_births(cdc_list)"
      ],
      "execution_count": 29,
      "outputs": []
    },
    {
      "cell_type": "code",
      "metadata": {
        "id": "kpWlJLXR1eP5",
        "colab_type": "code",
        "colab": {
          "base_uri": "https://localhost:8080/",
          "height": 237
        },
        "outputId": "1dda4bf7-fb34-42b3-e482-3db268c9b096"
      },
      "source": [
        "cdc_month_births"
      ],
      "execution_count": 30,
      "outputs": [
        {
          "output_type": "execute_result",
          "data": {
            "text/plain": [
              "{1: 3232517,\n",
              " 2: 3018140,\n",
              " 3: 3322069,\n",
              " 4: 3185314,\n",
              " 5: 3350907,\n",
              " 6: 3296530,\n",
              " 7: 3498783,\n",
              " 8: 3525858,\n",
              " 9: 3439698,\n",
              " 10: 3378814,\n",
              " 11: 3171647,\n",
              " 12: 3301860}"
            ]
          },
          "metadata": {
            "tags": []
          },
          "execution_count": 30
        }
      ]
    },
    {
      "cell_type": "markdown",
      "metadata": {
        "id": "aWrB0KPN1eQA",
        "colab_type": "text"
      },
      "source": [
        "# Calculating Number Of Births Each Day Of Week"
      ]
    },
    {
      "cell_type": "code",
      "metadata": {
        "id": "zDlQIOE61eQB",
        "colab_type": "code",
        "colab": {}
      },
      "source": [
        "def dow_births(data):\n",
        "    births_per_dow = {}\n",
        "    \n",
        "    for row in data:\n",
        "        dow = row[3]\n",
        "        births = row[4]\n",
        "        if dow in births_per_dow:\n",
        "            births_per_dow[dow] = births_per_dow[dow] + births\n",
        "        else:\n",
        "            births_per_dow[dow] = births\n",
        "    return births_per_dow\n",
        "    \n",
        "cdc_dow_births = dow_births(cdc_list)"
      ],
      "execution_count": 31,
      "outputs": []
    },
    {
      "cell_type": "code",
      "metadata": {
        "scrolled": true,
        "id": "30JdCD9q1eQI",
        "colab_type": "code",
        "colab": {
          "base_uri": "https://localhost:8080/",
          "height": 146
        },
        "outputId": "7359f3ff-60a0-4863-b635-620944f7a597"
      },
      "source": [
        "cdc_dow_births"
      ],
      "execution_count": 32,
      "outputs": [
        {
          "output_type": "execute_result",
          "data": {
            "text/plain": [
              "{1: 5789166,\n",
              " 2: 6446196,\n",
              " 3: 6322855,\n",
              " 4: 6288429,\n",
              " 5: 6233657,\n",
              " 6: 4562111,\n",
              " 7: 4079723}"
            ]
          },
          "metadata": {
            "tags": []
          },
          "execution_count": 32
        }
      ]
    },
    {
      "cell_type": "markdown",
      "metadata": {
        "id": "ry8eRbrI1eQP",
        "colab_type": "text"
      },
      "source": [
        "# Creating A More General Function"
      ]
    },
    {
      "cell_type": "code",
      "metadata": {
        "id": "8vPiZ1mg1eQQ",
        "colab_type": "code",
        "colab": {}
      },
      "source": [
        "def calc_counts(data, column):\n",
        "    sums_dict = {}\n",
        "    \n",
        "    for row in data:\n",
        "        col_value = row[column]\n",
        "        births = row[4]\n",
        "        if col_value in sums_dict:\n",
        "            sums_dict[col_value] = sums_dict[col_value] + births\n",
        "        else:\n",
        "            sums_dict[col_value] = births\n",
        "    return sums_dict\n",
        "\n",
        "cdc_year_births = calc_counts(cdc_list, 0)\n",
        "cdc_month_births = calc_counts(cdc_list, 1)\n",
        "cdc_dom_births = calc_counts(cdc_list, 2)\n",
        "cdc_dow_births = calc_counts(cdc_list, 3)"
      ],
      "execution_count": 33,
      "outputs": []
    },
    {
      "cell_type": "code",
      "metadata": {
        "id": "Bhw41Bph38fF",
        "colab_type": "code",
        "colab": {}
      },
      "source": [
        "import numpy as np\n",
        "import pandas as pd\n",
        "import matplotlib.pyplot as plt\n",
        "def plot_barh_dict(d):\n",
        "  plt.figure(figsize=(12,8))\n",
        "  plt.yticks(np.arange(len(d)),list(d.keys()))\n",
        "  plt.barh(range(len(d)), d.values(), align='center')"
      ],
      "execution_count": 88,
      "outputs": []
    },
    {
      "cell_type": "code",
      "metadata": {
        "id": "N64J54pq1eQX",
        "colab_type": "code",
        "colab": {
          "base_uri": "https://localhost:8080/",
          "height": 496
        },
        "outputId": "ff03bed4-b2de-443d-b431-b8e8f35065d3"
      },
      "source": [
        "plot_barh_dict(cdc_year_births)"
      ],
      "execution_count": 90,
      "outputs": [
        {
          "output_type": "display_data",
          "data": {
            "image/png": "[encoded data removed]",
            "text/plain": [
              "<Figure size 864x576 with 1 Axes>"
            ]
          },
          "metadata": {
            "tags": [],
            "needs_background": "light"
          }
        }
      ]
    },
    {
      "cell_type": "code",
      "metadata": {
        "id": "eXQZzovX1eQe",
        "colab_type": "code",
        "colab": {
          "base_uri": "https://localhost:8080/",
          "height": 496
        },
        "outputId": "0eb25081-9f4c-460b-8d6b-a1477257c85a"
      },
      "source": [
        "plot_barh_dict(cdc_month_births)"
      ],
      "execution_count": 91,
      "outputs": [
        {
          "output_type": "display_data",
          "data": {
            "image/png": "[encoded data removed]",
            "text/plain": [
              "<Figure size 864x576 with 1 Axes>"
            ]
          },
          "metadata": {
            "tags": [],
            "needs_background": "light"
          }
        }
      ]
    },
    {
      "cell_type": "code",
      "metadata": {
        "scrolled": true,
        "id": "E0HcJUaR1eQk",
        "colab_type": "code",
        "colab": {
          "base_uri": "https://localhost:8080/",
          "height": 496
        },
        "outputId": "d93d0999-8c97-4cec-868c-66b5f4c103de"
      },
      "source": [
        "plot_barh_dict(cdc_dom_births)"
      ],
      "execution_count": 92,
      "outputs": [
        {
          "output_type": "display_data",
          "data": {
            "image/png": "[encoded data removed]",
            "text/plain": [
              "<Figure size 864x576 with 1 Axes>"
            ]
          },
          "metadata": {
            "tags": [],
            "needs_background": "light"
          }
        }
      ]
    },
    {
      "cell_type": "code",
      "metadata": {
        "id": "HAngurmt1eQu",
        "colab_type": "code",
        "colab": {
          "base_uri": "https://localhost:8080/",
          "height": 496
        },
        "outputId": "4fcdd7aa-dede-4a30-ffda-fa792299d8b8"
      },
      "source": [
        "plot_barh_dict(cdc_dow_births)"
      ],
      "execution_count": 93,
      "outputs": [
        {
          "output_type": "display_data",
          "data": {
            "image/png": "[encoded data removed]",
            "text/plain": [
              "<Figure size 864x576 with 1 Axes>"
            ]
          },
          "metadata": {
            "tags": [],
            "needs_background": "light"
          }
        }
      ]
    }
  ]
}