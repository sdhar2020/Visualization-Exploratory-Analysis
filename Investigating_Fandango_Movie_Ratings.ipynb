{
  "nbformat": 4,
  "nbformat_minor": 0,
  "metadata": {
    "colab": {
      "name": "Investigating Fandango Movie Ratings",
      "provenance": [],
      "include_colab_link": true
    },
    "kernelspec": {
      "name": "python3",
      "display_name": "Python 3"
    }
  },
  "cells": [
    {
      "cell_type": "markdown",
      "metadata": {
        "id": "view-in-github",
        "colab_type": "text"
      },
      "source": [
        "<a href=\"https://colab.research.google.com/github/sdhar2020/Visualization-Exploratory-Analysis/blob/master/Investigating_Fandango_Movie_Ratings.ipynb\" target=\"_parent\"><img src=\"https://colab.research.google.com/assets/colab-badge.svg\" alt=\"Open In Colab\"/></a>"
      ]
    },
    {
      "cell_type": "markdown",
      "metadata": {
        "id": "XU4tE7T3Kgbi",
        "colab_type": "text"
      },
      "source": [
        "# Fandango Online Movie Ratings\n",
        "Fandango displays a 5-star rating system on their website, where the minimum rating is 0 stars and the maximum is 5 stars. A significant discrepancy has been reported between the number of stars displayed to users and the actual rating, which he was able to find in the HTML of the page.\n",
        "\n",
        "- The actual rating was almost always rounded up to the nearest half-star. For instance, a 4.1 movie would be rounded off to 4.5 stars, not to 4 stars, as you may expect.\n",
        "- In the case of 8% of the ratings analyzed, the rounding up was done to the nearest whole star. For instance, a 4.5 rating would be rounded off to 5 stars.\n",
        "- For one movie rating, the rounding off was completely bizarre: from a rating of 4 in the HTML of the page to a displayed rating of 5 stars.\n",
        "\n",
        "The challenges were conceded to be bugs and has been fixed thereafter.\n",
        "In this project, we'll analyze more recent movie ratings data to determine whether there has been any change in Fandango's rating system after the initial report."
      ]
    },
    {
      "cell_type": "code",
      "metadata": {
        "id": "2K81OcUvLWJR",
        "colab_type": "code",
        "colab": {}
      },
      "source": [
        "import pandas as pd"
      ],
      "execution_count": null,
      "outputs": []
    },
    {
      "cell_type": "code",
      "metadata": {
        "id": "BY5UCqs9MXf6",
        "colab_type": "code",
        "colab": {}
      },
      "source": [
        "fcs= pd.read_csv('https://raw.githubusercontent.com/fivethirtyeight/data/master/fandango/fandango_score_comparison.csv')\n",
        "mr1617= pd.read_csv('https://raw.githubusercontent.com/mircealex/Movie_ratings_2016_17/master/movie_ratings_16_17.csv')"
      ],
      "execution_count": null,
      "outputs": []
    },
    {
      "cell_type": "code",
      "metadata": {
        "id": "XO_fGJJDOv1h",
        "colab_type": "code",
        "colab": {
          "base_uri": "https://localhost:8080/",
          "height": 739
        },
        "outputId": "c788f828-4150-4104-b8e8-9f4b29be30bd"
      },
      "source": [
        "fcs.head().transpose()"
      ],
      "execution_count": null,
      "outputs": [
        {
          "output_type": "execute_result",
          "data": {
            "text/html": [
              "<div>\n",
              "<style scoped>\n",
              "    .dataframe tbody tr th:only-of-type {\n",
              "        vertical-align: middle;\n",
              "    }\n",
              "\n",
              "    .dataframe tbody tr th {\n",
              "        vertical-align: top;\n",
              "    }\n",
              "\n",
              "    .dataframe thead th {\n",
              "        text-align: right;\n",
              "    }\n",
              "</style>\n",
              "<table border=\"1\" class=\"dataframe\">\n",
              "  <thead>\n",
              "    <tr style=\"text-align: right;\">\n",
              "      <th></th>\n",
              "      <th>0</th>\n",
              "      <th>1</th>\n",
              "      <th>2</th>\n",
              "      <th>3</th>\n",
              "      <th>4</th>\n",
              "    </tr>\n",
              "  </thead>\n",
              "  <tbody>\n",
              "    <tr>\n",
              "      <th>FILM</th>\n",
              "      <td>Avengers: Age of Ultron (2015)</td>\n",
              "      <td>Cinderella (2015)</td>\n",
              "      <td>Ant-Man (2015)</td>\n",
              "      <td>Do You Believe? (2015)</td>\n",
              "      <td>Hot Tub Time Machine 2 (2015)</td>\n",
              "    </tr>\n",
              "    <tr>\n",
              "      <th>RottenTomatoes</th>\n",
              "      <td>74</td>\n",
              "      <td>85</td>\n",
              "      <td>80</td>\n",
              "      <td>18</td>\n",
              "      <td>14</td>\n",
              "    </tr>\n",
              "    <tr>\n",
              "      <th>RottenTomatoes_User</th>\n",
              "      <td>86</td>\n",
              "      <td>80</td>\n",
              "      <td>90</td>\n",
              "      <td>84</td>\n",
              "      <td>28</td>\n",
              "    </tr>\n",
              "    <tr>\n",
              "      <th>Metacritic</th>\n",
              "      <td>66</td>\n",
              "      <td>67</td>\n",
              "      <td>64</td>\n",
              "      <td>22</td>\n",
              "      <td>29</td>\n",
              "    </tr>\n",
              "    <tr>\n",
              "      <th>Metacritic_User</th>\n",
              "      <td>7.1</td>\n",
              "      <td>7.5</td>\n",
              "      <td>8.1</td>\n",
              "      <td>4.7</td>\n",
              "      <td>3.4</td>\n",
              "    </tr>\n",
              "    <tr>\n",
              "      <th>IMDB</th>\n",
              "      <td>7.8</td>\n",
              "      <td>7.1</td>\n",
              "      <td>7.8</td>\n",
              "      <td>5.4</td>\n",
              "      <td>5.1</td>\n",
              "    </tr>\n",
              "    <tr>\n",
              "      <th>Fandango_Stars</th>\n",
              "      <td>5</td>\n",
              "      <td>5</td>\n",
              "      <td>5</td>\n",
              "      <td>5</td>\n",
              "      <td>3.5</td>\n",
              "    </tr>\n",
              "    <tr>\n",
              "      <th>Fandango_Ratingvalue</th>\n",
              "      <td>4.5</td>\n",
              "      <td>4.5</td>\n",
              "      <td>4.5</td>\n",
              "      <td>4.5</td>\n",
              "      <td>3</td>\n",
              "    </tr>\n",
              "    <tr>\n",
              "      <th>RT_norm</th>\n",
              "      <td>3.7</td>\n",
              "      <td>4.25</td>\n",
              "      <td>4</td>\n",
              "      <td>0.9</td>\n",
              "      <td>0.7</td>\n",
              "    </tr>\n",
              "    <tr>\n",
              "      <th>RT_user_norm</th>\n",
              "      <td>4.3</td>\n",
              "      <td>4</td>\n",
              "      <td>4.5</td>\n",
              "      <td>4.2</td>\n",
              "      <td>1.4</td>\n",
              "    </tr>\n",
              "    <tr>\n",
              "      <th>Metacritic_norm</th>\n",
              "      <td>3.3</td>\n",
              "      <td>3.35</td>\n",
              "      <td>3.2</td>\n",
              "      <td>1.1</td>\n",
              "      <td>1.45</td>\n",
              "    </tr>\n",
              "    <tr>\n",
              "      <th>Metacritic_user_nom</th>\n",
              "      <td>3.55</td>\n",
              "      <td>3.75</td>\n",
              "      <td>4.05</td>\n",
              "      <td>2.35</td>\n",
              "      <td>1.7</td>\n",
              "    </tr>\n",
              "    <tr>\n",
              "      <th>IMDB_norm</th>\n",
              "      <td>3.9</td>\n",
              "      <td>3.55</td>\n",
              "      <td>3.9</td>\n",
              "      <td>2.7</td>\n",
              "      <td>2.55</td>\n",
              "    </tr>\n",
              "    <tr>\n",
              "      <th>RT_norm_round</th>\n",
              "      <td>3.5</td>\n",
              "      <td>4.5</td>\n",
              "      <td>4</td>\n",
              "      <td>1</td>\n",
              "      <td>0.5</td>\n",
              "    </tr>\n",
              "    <tr>\n",
              "      <th>RT_user_norm_round</th>\n",
              "      <td>4.5</td>\n",
              "      <td>4</td>\n",
              "      <td>4.5</td>\n",
              "      <td>4</td>\n",
              "      <td>1.5</td>\n",
              "    </tr>\n",
              "    <tr>\n",
              "      <th>Metacritic_norm_round</th>\n",
              "      <td>3.5</td>\n",
              "      <td>3.5</td>\n",
              "      <td>3</td>\n",
              "      <td>1</td>\n",
              "      <td>1.5</td>\n",
              "    </tr>\n",
              "    <tr>\n",
              "      <th>Metacritic_user_norm_round</th>\n",
              "      <td>3.5</td>\n",
              "      <td>4</td>\n",
              "      <td>4</td>\n",
              "      <td>2.5</td>\n",
              "      <td>1.5</td>\n",
              "    </tr>\n",
              "    <tr>\n",
              "      <th>IMDB_norm_round</th>\n",
              "      <td>4</td>\n",
              "      <td>3.5</td>\n",
              "      <td>4</td>\n",
              "      <td>2.5</td>\n",
              "      <td>2.5</td>\n",
              "    </tr>\n",
              "    <tr>\n",
              "      <th>Metacritic_user_vote_count</th>\n",
              "      <td>1330</td>\n",
              "      <td>249</td>\n",
              "      <td>627</td>\n",
              "      <td>31</td>\n",
              "      <td>88</td>\n",
              "    </tr>\n",
              "    <tr>\n",
              "      <th>IMDB_user_vote_count</th>\n",
              "      <td>271107</td>\n",
              "      <td>65709</td>\n",
              "      <td>103660</td>\n",
              "      <td>3136</td>\n",
              "      <td>19560</td>\n",
              "    </tr>\n",
              "    <tr>\n",
              "      <th>Fandango_votes</th>\n",
              "      <td>14846</td>\n",
              "      <td>12640</td>\n",
              "      <td>12055</td>\n",
              "      <td>1793</td>\n",
              "      <td>1021</td>\n",
              "    </tr>\n",
              "    <tr>\n",
              "      <th>Fandango_Difference</th>\n",
              "      <td>0.5</td>\n",
              "      <td>0.5</td>\n",
              "      <td>0.5</td>\n",
              "      <td>0.5</td>\n",
              "      <td>0.5</td>\n",
              "    </tr>\n",
              "  </tbody>\n",
              "</table>\n",
              "</div>"
            ],
            "text/plain": [
              "                                                         0  ...                              4\n",
              "FILM                        Avengers: Age of Ultron (2015)  ...  Hot Tub Time Machine 2 (2015)\n",
              "RottenTomatoes                                          74  ...                             14\n",
              "RottenTomatoes_User                                     86  ...                             28\n",
              "Metacritic                                              66  ...                             29\n",
              "Metacritic_User                                        7.1  ...                            3.4\n",
              "IMDB                                                   7.8  ...                            5.1\n",
              "Fandango_Stars                                           5  ...                            3.5\n",
              "Fandango_Ratingvalue                                   4.5  ...                              3\n",
              "RT_norm                                                3.7  ...                            0.7\n",
              "RT_user_norm                                           4.3  ...                            1.4\n",
              "Metacritic_norm                                        3.3  ...                           1.45\n",
              "Metacritic_user_nom                                   3.55  ...                            1.7\n",
              "IMDB_norm                                              3.9  ...                           2.55\n",
              "RT_norm_round                                          3.5  ...                            0.5\n",
              "RT_user_norm_round                                     4.5  ...                            1.5\n",
              "Metacritic_norm_round                                  3.5  ...                            1.5\n",
              "Metacritic_user_norm_round                             3.5  ...                            1.5\n",
              "IMDB_norm_round                                          4  ...                            2.5\n",
              "Metacritic_user_vote_count                            1330  ...                             88\n",
              "IMDB_user_vote_count                                271107  ...                          19560\n",
              "Fandango_votes                                       14846  ...                           1021\n",
              "Fandango_Difference                                    0.5  ...                            0.5\n",
              "\n",
              "[22 rows x 5 columns]"
            ]
          },
          "metadata": {
            "tags": []
          },
          "execution_count": 3
        }
      ]
    },
    {
      "cell_type": "code",
      "metadata": {
        "id": "MYC_xGXGO4zg",
        "colab_type": "code",
        "colab": {
          "base_uri": "https://localhost:8080/",
          "height": 520
        },
        "outputId": "8493bfd1-6425-4e2c-fd35-fd521e8efc10"
      },
      "source": [
        "mr1617.head().transpose()"
      ],
      "execution_count": null,
      "outputs": [
        {
          "output_type": "execute_result",
          "data": {
            "text/html": [
              "<div>\n",
              "<style scoped>\n",
              "    .dataframe tbody tr th:only-of-type {\n",
              "        vertical-align: middle;\n",
              "    }\n",
              "\n",
              "    .dataframe tbody tr th {\n",
              "        vertical-align: top;\n",
              "    }\n",
              "\n",
              "    .dataframe thead th {\n",
              "        text-align: right;\n",
              "    }\n",
              "</style>\n",
              "<table border=\"1\" class=\"dataframe\">\n",
              "  <thead>\n",
              "    <tr style=\"text-align: right;\">\n",
              "      <th></th>\n",
              "      <th>0</th>\n",
              "      <th>1</th>\n",
              "      <th>2</th>\n",
              "      <th>3</th>\n",
              "      <th>4</th>\n",
              "    </tr>\n",
              "  </thead>\n",
              "  <tbody>\n",
              "    <tr>\n",
              "      <th>movie</th>\n",
              "      <td>10 Cloverfield Lane</td>\n",
              "      <td>13 Hours</td>\n",
              "      <td>A Cure for Wellness</td>\n",
              "      <td>A Dog's Purpose</td>\n",
              "      <td>A Hologram for the King</td>\n",
              "    </tr>\n",
              "    <tr>\n",
              "      <th>year</th>\n",
              "      <td>2016</td>\n",
              "      <td>2016</td>\n",
              "      <td>2016</td>\n",
              "      <td>2017</td>\n",
              "      <td>2016</td>\n",
              "    </tr>\n",
              "    <tr>\n",
              "      <th>metascore</th>\n",
              "      <td>76</td>\n",
              "      <td>48</td>\n",
              "      <td>47</td>\n",
              "      <td>43</td>\n",
              "      <td>58</td>\n",
              "    </tr>\n",
              "    <tr>\n",
              "      <th>imdb</th>\n",
              "      <td>7.2</td>\n",
              "      <td>7.3</td>\n",
              "      <td>6.6</td>\n",
              "      <td>5.2</td>\n",
              "      <td>6.1</td>\n",
              "    </tr>\n",
              "    <tr>\n",
              "      <th>tmeter</th>\n",
              "      <td>90</td>\n",
              "      <td>50</td>\n",
              "      <td>40</td>\n",
              "      <td>33</td>\n",
              "      <td>70</td>\n",
              "    </tr>\n",
              "    <tr>\n",
              "      <th>audience</th>\n",
              "      <td>79</td>\n",
              "      <td>83</td>\n",
              "      <td>47</td>\n",
              "      <td>76</td>\n",
              "      <td>57</td>\n",
              "    </tr>\n",
              "    <tr>\n",
              "      <th>fandango</th>\n",
              "      <td>3.5</td>\n",
              "      <td>4.5</td>\n",
              "      <td>3</td>\n",
              "      <td>4.5</td>\n",
              "      <td>3</td>\n",
              "    </tr>\n",
              "    <tr>\n",
              "      <th>n_metascore</th>\n",
              "      <td>3.8</td>\n",
              "      <td>2.4</td>\n",
              "      <td>2.35</td>\n",
              "      <td>2.15</td>\n",
              "      <td>2.9</td>\n",
              "    </tr>\n",
              "    <tr>\n",
              "      <th>n_imdb</th>\n",
              "      <td>3.6</td>\n",
              "      <td>3.65</td>\n",
              "      <td>3.3</td>\n",
              "      <td>2.6</td>\n",
              "      <td>3.05</td>\n",
              "    </tr>\n",
              "    <tr>\n",
              "      <th>n_tmeter</th>\n",
              "      <td>4.5</td>\n",
              "      <td>2.5</td>\n",
              "      <td>2</td>\n",
              "      <td>1.65</td>\n",
              "      <td>3.5</td>\n",
              "    </tr>\n",
              "    <tr>\n",
              "      <th>n_audience</th>\n",
              "      <td>3.95</td>\n",
              "      <td>4.15</td>\n",
              "      <td>2.35</td>\n",
              "      <td>3.8</td>\n",
              "      <td>2.85</td>\n",
              "    </tr>\n",
              "    <tr>\n",
              "      <th>nr_metascore</th>\n",
              "      <td>4</td>\n",
              "      <td>2.5</td>\n",
              "      <td>2.5</td>\n",
              "      <td>2</td>\n",
              "      <td>3</td>\n",
              "    </tr>\n",
              "    <tr>\n",
              "      <th>nr_imdb</th>\n",
              "      <td>3.5</td>\n",
              "      <td>3.5</td>\n",
              "      <td>3.5</td>\n",
              "      <td>2.5</td>\n",
              "      <td>3</td>\n",
              "    </tr>\n",
              "    <tr>\n",
              "      <th>nr_tmeter</th>\n",
              "      <td>4.5</td>\n",
              "      <td>2.5</td>\n",
              "      <td>2</td>\n",
              "      <td>1.5</td>\n",
              "      <td>3.5</td>\n",
              "    </tr>\n",
              "    <tr>\n",
              "      <th>nr_audience</th>\n",
              "      <td>4</td>\n",
              "      <td>4</td>\n",
              "      <td>2.5</td>\n",
              "      <td>4</td>\n",
              "      <td>3</td>\n",
              "    </tr>\n",
              "  </tbody>\n",
              "</table>\n",
              "</div>"
            ],
            "text/plain": [
              "                                0  ...                        4\n",
              "movie         10 Cloverfield Lane  ...  A Hologram for the King\n",
              "year                         2016  ...                     2016\n",
              "metascore                      76  ...                       58\n",
              "imdb                          7.2  ...                      6.1\n",
              "tmeter                         90  ...                       70\n",
              "audience                       79  ...                       57\n",
              "fandango                      3.5  ...                        3\n",
              "n_metascore                   3.8  ...                      2.9\n",
              "n_imdb                        3.6  ...                     3.05\n",
              "n_tmeter                      4.5  ...                      3.5\n",
              "n_audience                   3.95  ...                     2.85\n",
              "nr_metascore                    4  ...                        3\n",
              "nr_imdb                       3.5  ...                        3\n",
              "nr_tmeter                     4.5  ...                      3.5\n",
              "nr_audience                     4  ...                        3\n",
              "\n",
              "[15 rows x 5 columns]"
            ]
          },
          "metadata": {
            "tags": []
          },
          "execution_count": 4
        }
      ]
    },
    {
      "cell_type": "code",
      "metadata": {
        "id": "su-iS8ivPE0a",
        "colab_type": "code",
        "colab": {}
      },
      "source": [
        "hickeys = ['FILM', 'Fandango_Stars', 'Fandango_Ratingvalue', 'Fandango_votes', 'Fandango_Difference']\n",
        "df1 = fcs[hickeys]"
      ],
      "execution_count": null,
      "outputs": []
    },
    {
      "cell_type": "code",
      "metadata": {
        "id": "IkjurPrsPYLw",
        "colab_type": "code",
        "colab": {}
      },
      "source": [
        "new = ['movie', 'year', 'fandango']\n",
        "df2 = mr1617[new]"
      ],
      "execution_count": null,
      "outputs": []
    },
    {
      "cell_type": "code",
      "metadata": {
        "id": "1Qq1bSWwPmwo",
        "colab_type": "code",
        "colab": {
          "base_uri": "https://localhost:8080/",
          "height": 225
        },
        "outputId": "9f614ad3-f4f4-4577-997e-abae0abcc52a"
      },
      "source": [
        "df1['year']= df1['FILM'].str[-5:-1]\n",
        "df1['movie']= df1['FILM'].str[0:-6]"
      ],
      "execution_count": null,
      "outputs": [
        {
          "output_type": "stream",
          "text": [
            "/usr/local/lib/python3.6/dist-packages/ipykernel_launcher.py:1: SettingWithCopyWarning: \n",
            "A value is trying to be set on a copy of a slice from a DataFrame.\n",
            "Try using .loc[row_indexer,col_indexer] = value instead\n",
            "\n",
            "See the caveats in the documentation: https://pandas.pydata.org/pandas-docs/stable/user_guide/indexing.html#returning-a-view-versus-a-copy\n",
            "  \"\"\"Entry point for launching an IPython kernel.\n",
            "/usr/local/lib/python3.6/dist-packages/ipykernel_launcher.py:2: SettingWithCopyWarning: \n",
            "A value is trying to be set on a copy of a slice from a DataFrame.\n",
            "Try using .loc[row_indexer,col_indexer] = value instead\n",
            "\n",
            "See the caveats in the documentation: https://pandas.pydata.org/pandas-docs/stable/user_guide/indexing.html#returning-a-view-versus-a-copy\n",
            "  \n"
          ],
          "name": "stderr"
        }
      ]
    },
    {
      "cell_type": "code",
      "metadata": {
        "id": "tPqW0IR5BXs6",
        "colab_type": "code",
        "colab": {
          "base_uri": "https://localhost:8080/",
          "height": 69
        },
        "outputId": "150a09fa-128f-4309-b7a1-2319240c7489"
      },
      "source": [
        "df1['year'].value_counts()"
      ],
      "execution_count": null,
      "outputs": [
        {
          "output_type": "execute_result",
          "data": {
            "text/plain": [
              "2015    129\n",
              "2014     17\n",
              "Name: year, dtype: int64"
            ]
          },
          "metadata": {
            "tags": []
          },
          "execution_count": 8
        }
      ]
    },
    {
      "cell_type": "code",
      "metadata": {
        "id": "5nOS-Qy6C1M4",
        "colab_type": "code",
        "colab": {
          "base_uri": "https://localhost:8080/",
          "height": 69
        },
        "outputId": "cd49eb2c-a8fd-4ecb-99fb-eb1e415b3f83"
      },
      "source": [
        "df2['year'].value_counts()"
      ],
      "execution_count": null,
      "outputs": [
        {
          "output_type": "execute_result",
          "data": {
            "text/plain": [
              "2016    191\n",
              "2017     23\n",
              "Name: year, dtype: int64"
            ]
          },
          "metadata": {
            "tags": []
          },
          "execution_count": 9
        }
      ]
    },
    {
      "cell_type": "code",
      "metadata": {
        "id": "vk-l8FkODBX2",
        "colab_type": "code",
        "colab": {
          "base_uri": "https://localhost:8080/",
          "height": 34
        },
        "outputId": "445775e0-7513-468b-d6a3-6f74f8f183a7"
      },
      "source": [
        "sum(df1['Fandango_votes'] < 30)"
      ],
      "execution_count": null,
      "outputs": [
        {
          "output_type": "execute_result",
          "data": {
            "text/plain": [
              "0"
            ]
          },
          "metadata": {
            "tags": []
          },
          "execution_count": 10
        }
      ]
    },
    {
      "cell_type": "markdown",
      "metadata": {
        "id": "5vj0YcY8ESD-",
        "colab_type": "text"
      },
      "source": [
        "# Our Goal\n",
        "Our goal is to determine whether there has been any change in Fandango's rating system after Hickey's analysis. The population of interest for our analysis is made of all the movie ratings stored on Fandango's website, regardless of the releasing year.\n",
        "\n",
        "Because we want to find out whether the parameters of this population changed after Hickey's analysis, we're interested in sampling the population at two different periods in time — previous and after Hickey's analysis — so we can compare the two states.\n",
        "\n",
        "The data we're working with was sampled at the moments we want: one sample was taken previous to the analysis, and the other after the analysis. We want to describe the population, so we need to make sure that the samples are representative, otherwise we should expect a large sampling error and, ultimately, wrong conclusions.\n",
        "\n",
        "From Hickey's article and from the README.md of the data set's repository, we can see that he used the following sampling criteria:\n",
        "\n",
        "The movie must have had at least 30 fan ratings on Fandango's website at the time of sampling (Aug. 24, 2015).\n",
        "The movie must have had tickets on sale in 2015.\n",
        "The sampling was clearly not random because not every movie had the same chance to be included in the sample — some movies didn't have a chance at all (like those having under 30 fan ratings or those without tickets on sale in 2015). It's questionable whether this sample is representative of the entire population we're interested to describe. It seems more likely that it isn't, mostly because this sample is subject to temporal trends — e.g. movies in 2015 might have been outstandingly good or bad compared to other years.\n",
        "\n",
        "The sampling conditions for our other sample were (as it can be read in the README.md of the data set's repository):\n",
        "\n",
        "* The movie must have been released in 2016 or later.\n",
        "* The movie must have had a considerable number of votes which is subjective\n",
        "This second sample is also subject to temporal trends and it's unlikely to be representative of our population of interest.\n",
        "\n",
        "Both these authors had certain research questions in mind when they sampled the data, and they used a set of criteria to get a sample that would fit their questions."
      ]
    },
    {
      "cell_type": "markdown",
      "metadata": {
        "id": "bwMmm4o2Ejla",
        "colab_type": "text"
      },
      "source": [
        "# Changing the Goal of our Analysis\n",
        "At this point, we can either collect new data or change our the goal of our analysis. We choose the latter and place some limitations on our initial goal.\n",
        "\n",
        "Instead of trying to determine whether there has been any change in Fandango's rating system after Hickey's analysis, our new goal is to determine whether there's any difference between Fandango's ratings for popular movies in 2015 and Fandango's ratings for popular movies in 2016. This new goal should also be a fairly good proxy for our initial goal."
      ]
    },
    {
      "cell_type": "markdown",
      "metadata": {
        "id": "m8xExBlZE9jS",
        "colab_type": "text"
      },
      "source": [
        "# New Research Methodology\n",
        "\n",
        "With this new research goal, we have two populations of interest:\n",
        "\n",
        "- All Fandango's ratings for popular movies released in 2015.\n",
        "- All Fandango's ratings for popular movies released in 2016.\n",
        "We need to be clear about what counts as popular movies. We'll use Hickey's benchmark of 30 fan ratings and count a movie as popular only if it has 30 fan ratings or more on Fandango's website.\n",
        "\n",
        "Although one of the sampling criteria in our second sample is movie popularity, the sample doesn't provide information about the number of fan ratings. We should be skeptical once more and ask whether this sample is truly representative and contains popular movies (movies with over 30 fan ratings).\n",
        "\n",
        "One quick way to check the representativity of this sample is to sample randomly 10 movies from it and then check the number of fan ratings ourselves on Fandango's website. Ideally, at least 8 out of the 10 movies have 30 fan ratings or more"
      ]
    },
    {
      "cell_type": "code",
      "metadata": {
        "id": "ULayb8SbG1kN",
        "colab_type": "code",
        "colab": {
          "base_uri": "https://localhost:8080/",
          "height": 52
        },
        "outputId": "96bcb833-2351-465f-c556-b21ed9cfc1bf"
      },
      "source": [
        "fandango_2015 = df1[df1['year'] == '2015'].copy()\n",
        "fandango_2015['year'].value_counts()"
      ],
      "execution_count": null,
      "outputs": [
        {
          "output_type": "execute_result",
          "data": {
            "text/plain": [
              "2015    129\n",
              "Name: year, dtype: int64"
            ]
          },
          "metadata": {
            "tags": []
          },
          "execution_count": 11
        }
      ]
    },
    {
      "cell_type": "code",
      "metadata": {
        "id": "lgUIY2OrHEh8",
        "colab_type": "code",
        "colab": {
          "base_uri": "https://localhost:8080/",
          "height": 52
        },
        "outputId": "307795b8-08e1-4c2d-aac8-64b5859d7d54"
      },
      "source": [
        "fandango_2016 = df2[df2['year'] == 2016].copy()\n",
        "fandango_2016['year'].value_counts()"
      ],
      "execution_count": null,
      "outputs": [
        {
          "output_type": "execute_result",
          "data": {
            "text/plain": [
              "2016    191\n",
              "Name: year, dtype: int64"
            ]
          },
          "metadata": {
            "tags": []
          },
          "execution_count": 12
        }
      ]
    },
    {
      "cell_type": "markdown",
      "metadata": {
        "id": "Y3Ow4yenHgCy",
        "colab_type": "text"
      },
      "source": [
        "# Comparing Distribution Shapes for 2015 and 2016\n",
        "Our aim is to figure out whether there's any difference between Fandango's ratings for popular movies in 2015 and Fandango's ratings for popular movies in 2016. One way to go about is to analyze and compare the distributions of movie ratings for the two samples.\n",
        "\n",
        "We'll start with comparing the shape of the two distributions using kernel density plots. We'll use the FiveThirtyEight style for the plots."
      ]
    },
    {
      "cell_type": "code",
      "metadata": {
        "id": "2YDn5-ihHlvV",
        "colab_type": "code",
        "colab": {
          "base_uri": "https://localhost:8080/",
          "height": 737
        },
        "outputId": "c43dd916-3bc9-4022-eda5-5d62b231ecac"
      },
      "source": [
        "import matplotlib.pyplot as plt\n",
        "from numpy import arange\n",
        "%matplotlib inline\n",
        "plt.style.use('fivethirtyeight')\n",
        "\n",
        "fandango_2015['Fandango_Stars'].plot.kde(label = '2015', legend = True, figsize = (10,10))\n",
        "fandango_2016['fandango'].plot.kde(label = '2016', legend = True)\n",
        "\n",
        "plt.title(\"Comparing distribution shapes for Fandango's ratings\\n(2015 vs 2016)\",\n",
        "          y = 1.07) # the `y` parameter pads the title upward\n",
        "plt.xlabel('Stars')\n",
        "plt.xlim(0,5) # because ratings start at 0 and end at 5\n",
        "plt.xticks(arange(0,5.1,.5))\n",
        "plt.show()"
      ],
      "execution_count": null,
      "outputs": [
        {
          "output_type": "display_data",
          "data": {
            "image/png": "[encoded data removed]",
            "text/plain": [
              "<Figure size 720x720 with 1 Axes>"
            ]
          },
          "metadata": {
            "tags": []
          }
        }
      ]
    },
    {
      "cell_type": "markdown",
      "metadata": {
        "id": "3SmPEpdzIgUP",
        "colab_type": "text"
      },
      "source": [
        "- Both distributions are strongly left skewed.\n",
        "- The 2016 distribution is slightly shifted to the left relative to the 2015 distribution.\n",
        "The left skew suggests that movies on Fandango are given mostly high and very high fan ratings.\n",
        "\n",
        "The ratings were slightly lower in 2016 compared to 2015. This suggests that there was a difference indeed between Fandango's ratings for popular movies in 2015 and Fandango's ratings for popular movies in 2016. We can also see the direction of the difference: the ratings in 2016 were slightly lower compared to 2015."
      ]
    },
    {
      "cell_type": "markdown",
      "metadata": {
        "id": "TkEtd_ujIwbH",
        "colab_type": "text"
      },
      "source": [
        "# Relative Frequencies\n",
        "\n",
        "Let's examine the frequency tables of the two distributions to analyze some numbers. Because the data sets have different numbers of movies, we normalize the tables and show percentages instead.\n"
      ]
    },
    {
      "cell_type": "code",
      "metadata": {
        "id": "WN-f8ahTJM_5",
        "colab_type": "code",
        "colab": {}
      },
      "source": [
        "rn2015= fandango_2015['Fandango_Stars'].value_counts(normalize = True).sort_index() * 100"
      ],
      "execution_count": null,
      "outputs": []
    },
    {
      "cell_type": "code",
      "metadata": {
        "id": "uxh84P1_JQvI",
        "colab_type": "code",
        "colab": {}
      },
      "source": [
        "rn2016= fandango_2016['fandango'].value_counts(normalize = True).sort_index() * 100"
      ],
      "execution_count": null,
      "outputs": []
    },
    {
      "cell_type": "code",
      "metadata": {
        "id": "wMI95yPOKiI8",
        "colab_type": "code",
        "colab": {}
      },
      "source": [
        "rn2015= pd.DataFrame(rn2015)"
      ],
      "execution_count": null,
      "outputs": []
    },
    {
      "cell_type": "code",
      "metadata": {
        "id": "UCFConhvMAel",
        "colab_type": "code",
        "colab": {}
      },
      "source": [
        "rn2016 = pd.DataFrame(rn2016)"
      ],
      "execution_count": null,
      "outputs": []
    },
    {
      "cell_type": "code",
      "metadata": {
        "id": "GFIe2K0WMZlU",
        "colab_type": "code",
        "colab": {}
      },
      "source": [
        "ratings = rn2016.join(rn2015, lsuffix = '_2016', rsuffix='_2015')"
      ],
      "execution_count": null,
      "outputs": []
    },
    {
      "cell_type": "code",
      "metadata": {
        "id": "dsb3WRyqO4qI",
        "colab_type": "code",
        "colab": {
          "base_uri": "https://localhost:8080/",
          "height": 238
        },
        "outputId": "2bd755ea-53f1-4287-a37e-e96f865e80ea"
      },
      "source": [
        "ratings"
      ],
      "execution_count": null,
      "outputs": [
        {
          "output_type": "execute_result",
          "data": {
            "text/html": [
              "<div>\n",
              "<style scoped>\n",
              "    .dataframe tbody tr th:only-of-type {\n",
              "        vertical-align: middle;\n",
              "    }\n",
              "\n",
              "    .dataframe tbody tr th {\n",
              "        vertical-align: top;\n",
              "    }\n",
              "\n",
              "    .dataframe thead th {\n",
              "        text-align: right;\n",
              "    }\n",
              "</style>\n",
              "<table border=\"1\" class=\"dataframe\">\n",
              "  <thead>\n",
              "    <tr style=\"text-align: right;\">\n",
              "      <th></th>\n",
              "      <th>fandango</th>\n",
              "      <th>Fandango_Stars</th>\n",
              "    </tr>\n",
              "  </thead>\n",
              "  <tbody>\n",
              "    <tr>\n",
              "      <th>2.5</th>\n",
              "      <td>3.141361</td>\n",
              "      <td>NaN</td>\n",
              "    </tr>\n",
              "    <tr>\n",
              "      <th>3.0</th>\n",
              "      <td>7.329843</td>\n",
              "      <td>8.527132</td>\n",
              "    </tr>\n",
              "    <tr>\n",
              "      <th>3.5</th>\n",
              "      <td>24.083770</td>\n",
              "      <td>17.829457</td>\n",
              "    </tr>\n",
              "    <tr>\n",
              "      <th>4.0</th>\n",
              "      <td>40.314136</td>\n",
              "      <td>28.682171</td>\n",
              "    </tr>\n",
              "    <tr>\n",
              "      <th>4.5</th>\n",
              "      <td>24.607330</td>\n",
              "      <td>37.984496</td>\n",
              "    </tr>\n",
              "    <tr>\n",
              "      <th>5.0</th>\n",
              "      <td>0.523560</td>\n",
              "      <td>6.976744</td>\n",
              "    </tr>\n",
              "  </tbody>\n",
              "</table>\n",
              "</div>"
            ],
            "text/plain": [
              "      fandango  Fandango_Stars\n",
              "2.5   3.141361             NaN\n",
              "3.0   7.329843        8.527132\n",
              "3.5  24.083770       17.829457\n",
              "4.0  40.314136       28.682171\n",
              "4.5  24.607330       37.984496\n",
              "5.0   0.523560        6.976744"
            ]
          },
          "metadata": {
            "tags": []
          },
          "execution_count": 20
        }
      ]
    },
    {
      "cell_type": "markdown",
      "metadata": {
        "id": "f0XosVP5PKCw",
        "colab_type": "text"
      },
      "source": [
        "# Determining the Direction of the Change¶\n",
        "Let's take a couple of summary metrics to get a more precise picture about the direction of the change. In what follows, we'll compute the mean, the median, and the mode for both distributions and then use a bar graph to plot the values."
      ]
    },
    {
      "cell_type": "code",
      "metadata": {
        "id": "k3xcifj8O_Mn",
        "colab_type": "code",
        "colab": {
          "base_uri": "https://localhost:8080/",
          "height": 143
        },
        "outputId": "43b482a7-4a17-44d6-9e1c-6818cff3905d"
      },
      "source": [
        "mean_2015 = fandango_2015['Fandango_Stars'].mean()\n",
        "mean_2016 = fandango_2016['fandango'].mean()\n",
        "\n",
        "median_2015 = fandango_2015['Fandango_Stars'].median()\n",
        "median_2016 = fandango_2016['fandango'].median()\n",
        "\n",
        "mode_2015 = fandango_2015['Fandango_Stars'].mode()[0] # the output of Series.mode() is a bit uncommon\n",
        "mode_2016 = fandango_2016['fandango'].mode()[0]\n",
        "\n",
        "summary = pd.DataFrame()\n",
        "summary['2015'] = [mean_2015, median_2015, mode_2015]\n",
        "summary['2016'] = [mean_2016, median_2016, mode_2016]\n",
        "summary.index = ['mean', 'median', 'mode']\n",
        "summary"
      ],
      "execution_count": null,
      "outputs": [
        {
          "output_type": "execute_result",
          "data": {
            "text/html": [
              "<div>\n",
              "<style scoped>\n",
              "    .dataframe tbody tr th:only-of-type {\n",
              "        vertical-align: middle;\n",
              "    }\n",
              "\n",
              "    .dataframe tbody tr th {\n",
              "        vertical-align: top;\n",
              "    }\n",
              "\n",
              "    .dataframe thead th {\n",
              "        text-align: right;\n",
              "    }\n",
              "</style>\n",
              "<table border=\"1\" class=\"dataframe\">\n",
              "  <thead>\n",
              "    <tr style=\"text-align: right;\">\n",
              "      <th></th>\n",
              "      <th>2015</th>\n",
              "      <th>2016</th>\n",
              "    </tr>\n",
              "  </thead>\n",
              "  <tbody>\n",
              "    <tr>\n",
              "      <th>mean</th>\n",
              "      <td>4.085271</td>\n",
              "      <td>3.887435</td>\n",
              "    </tr>\n",
              "    <tr>\n",
              "      <th>median</th>\n",
              "      <td>4.000000</td>\n",
              "      <td>4.000000</td>\n",
              "    </tr>\n",
              "    <tr>\n",
              "      <th>mode</th>\n",
              "      <td>4.500000</td>\n",
              "      <td>4.000000</td>\n",
              "    </tr>\n",
              "  </tbody>\n",
              "</table>\n",
              "</div>"
            ],
            "text/plain": [
              "            2015      2016\n",
              "mean    4.085271  3.887435\n",
              "median  4.000000  4.000000\n",
              "mode    4.500000  4.000000"
            ]
          },
          "metadata": {
            "tags": []
          },
          "execution_count": 21
        }
      ]
    },
    {
      "cell_type": "code",
      "metadata": {
        "id": "V7yBF3SpPTta",
        "colab_type": "code",
        "colab": {
          "base_uri": "https://localhost:8080/",
          "height": 381
        },
        "outputId": "34a24dd3-10fb-47c8-8101-fd1345590e84"
      },
      "source": [
        "plt.style.use('fivethirtyeight')\n",
        "summary['2015'].plot.bar(color = '#0066FF', align = 'center', label = '2015', width = .25)\n",
        "summary['2016'].plot.bar(color = '#CC0000', align = 'edge', label = '2016', width = .25,\n",
        "                         rot = 0, figsize = (8,5))\n",
        "\n",
        "plt.title('Comparing summary statistics: 2015 vs 2016', y = 1.07)\n",
        "plt.ylim(0,5.5)\n",
        "plt.yticks(arange(0,5.1,.5))\n",
        "plt.ylabel('Stars')\n",
        "plt.legend(framealpha = 0, loc = 'upper center')\n",
        "plt.show()"
      ],
      "execution_count": null,
      "outputs": [
        {
          "output_type": "display_data",
          "data": {
            "image/png": "[encoded data removed]",
            "text/plain": [
              "<Figure size 576x360 with 1 Axes>"
            ]
          },
          "metadata": {
            "tags": []
          }
        }
      ]
    },
    {
      "cell_type": "code",
      "metadata": {
        "id": "cYjr_DHiPgb8",
        "colab_type": "code",
        "colab": {
          "base_uri": "https://localhost:8080/",
          "height": 34
        },
        "outputId": "2000130d-1f0c-49f4-98d3-3a4ae9b4d1f2"
      },
      "source": [
        "(summary.loc['mean'][0] - summary.loc['mean'][1]) / summary.loc['mean'][0]"
      ],
      "execution_count": null,
      "outputs": [
        {
          "output_type": "execute_result",
          "data": {
            "text/plain": [
              "0.04842683568951993"
            ]
          },
          "metadata": {
            "tags": []
          },
          "execution_count": 23
        }
      ]
    },
    {
      "cell_type": "markdown",
      "metadata": {
        "id": "BuOJLsOFPoHj",
        "colab_type": "text"
      },
      "source": [
        "The mean rating was lower in 2016 with approximately 0.2. This means a drop of almost 5% relative to the mean rating in 2015.\n",
        "\n",
        "\n",
        "While the median is the same for both distributions, the mode is lower in 2016 by 0.5. Coupled with what we saw for the mean, the direction of the change we saw on the kernel density plot is confirmed: on average, popular movies released in 2016 were rated slightly lower than popular movies released in 2015."
      ]
    },
    {
      "cell_type": "markdown",
      "metadata": {
        "id": "dF0ESpq4P2ns",
        "colab_type": "text"
      },
      "source": [
        "# Conclusion\n",
        "Our analysis showed that there's indeed a slight difference between Fandango's ratings for popular movies in 2015 and Fandango's ratings for popular movies in 2016. We also determined that, on average, popular movies released in 2016 were rated lower on Fandango than popular movies released in 2015."
      ]
    }
  ]
}