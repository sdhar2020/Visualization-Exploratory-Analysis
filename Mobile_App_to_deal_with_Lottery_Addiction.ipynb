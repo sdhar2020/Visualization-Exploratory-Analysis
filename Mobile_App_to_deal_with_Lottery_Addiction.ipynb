{
  "nbformat": 4,
  "nbformat_minor": 0,
  "metadata": {
    "colab": {
      "name": "Mobile App to deal with Lottery Addiction",
      "provenance": [],
      "collapsed_sections": [],
      "include_colab_link": true
    },
    "kernelspec": {
      "name": "python3",
      "display_name": "Python 3"
    }
  },
  "cells": [
    {
      "cell_type": "markdown",
      "metadata": {
        "id": "view-in-github",
        "colab_type": "text"
      },
      "source": [
        "<a href=\"https://colab.research.google.com/github/sdhar2020/Visualization-Exploratory-Analysis/blob/master/Mobile_App_to_deal_with_Lottery_Addiction.ipynb\" target=\"_parent\"><img src=\"https://colab.research.google.com/assets/colab-badge.svg\" alt=\"Open In Colab\"/></a>"
      ]
    },
    {
      "cell_type": "code",
      "metadata": {
        "id": "6_pw_4oB-HxO",
        "colab_type": "code",
        "colab": {}
      },
      "source": [
        "# Settings\n",
        "import pandas as pd"
      ],
      "execution_count": 2,
      "outputs": []
    },
    {
      "cell_type": "markdown",
      "metadata": {
        "id": "O_uHZqUOCxig",
        "colab_type": "text"
      },
      "source": [
        "# Important functions"
      ]
    },
    {
      "cell_type": "code",
      "metadata": {
        "id": "UznvbDiUC0oJ",
        "colab_type": "code",
        "colab": {}
      },
      "source": [
        "def factorial(n):\n",
        "    final_product = 1\n",
        "    for i in range(n, 0, -1):\n",
        "        final_product *= i\n",
        "    return final_product\n",
        "\n",
        "def permutation(n, k):\n",
        "    numerator = factorial(n)\n",
        "    denominator = factorial(n-k)\n",
        "    return numerator/denominator\n",
        "\n",
        "def combinations(n,k):\n",
        "    combination = permutation(n,k)/ factorial(k)\n",
        "    return(combination)"
      ],
      "execution_count": 1,
      "outputs": []
    },
    {
      "cell_type": "markdown",
      "metadata": {
        "id": "bjVldF6X9PzG",
        "colab_type": "text"
      },
      "source": [
        "# Introduction\n",
        "\n",
        "A medical institute that aims to prevent and treat gambling addictions wants to build a dedicated mobile app to help lottery addicts better estimate their chances of winning. The institute has a team of engineers that will build the app, but they need us to create the logical core of the app and calculate probabilities.\n",
        "\n",
        "For the first version of the app, they want us to focus on the 6/49 lottery and build functions that enable users about lottery outcomes\n",
        "\n"
      ]
    },
    {
      "cell_type": "markdown",
      "metadata": {
        "id": "kXGKizBVBUcv",
        "colab_type": "text"
      },
      "source": [
        "## Loading and Exploring Data"
      ]
    },
    {
      "cell_type": "code",
      "metadata": {
        "id": "mbNYh-A8CAsU",
        "colab_type": "code",
        "colab": {}
      },
      "source": [
        "df1 = pd.read_csv('https://raw.githubusercontent.com/sdhar2020/Visualization-Exploratory-Analysis/master/datasets_32665_42513_649.csv')"
      ],
      "execution_count": 5,
      "outputs": []
    },
    {
      "cell_type": "code",
      "metadata": {
        "id": "CbM2jryPCTp-",
        "colab_type": "code",
        "colab": {
          "base_uri": "https://localhost:8080/",
          "height": 318
        },
        "outputId": "2af387ea-2602-48c9-e97c-9c027eacee79"
      },
      "source": [
        "df1.describe()"
      ],
      "execution_count": 6,
      "outputs": [
        {
          "output_type": "execute_result",
          "data": {
            "text/html": [
              "<div>\n",
              "<style scoped>\n",
              "    .dataframe tbody tr th:only-of-type {\n",
              "        vertical-align: middle;\n",
              "    }\n",
              "\n",
              "    .dataframe tbody tr th {\n",
              "        vertical-align: top;\n",
              "    }\n",
              "\n",
              "    .dataframe thead th {\n",
              "        text-align: right;\n",
              "    }\n",
              "</style>\n",
              "<table border=\"1\" class=\"dataframe\">\n",
              "  <thead>\n",
              "    <tr style=\"text-align: right;\">\n",
              "      <th></th>\n",
              "      <th>PRODUCT</th>\n",
              "      <th>DRAW NUMBER</th>\n",
              "      <th>SEQUENCE NUMBER</th>\n",
              "      <th>NUMBER DRAWN 1</th>\n",
              "      <th>NUMBER DRAWN 2</th>\n",
              "      <th>NUMBER DRAWN 3</th>\n",
              "      <th>NUMBER DRAWN 4</th>\n",
              "      <th>NUMBER DRAWN 5</th>\n",
              "      <th>NUMBER DRAWN 6</th>\n",
              "      <th>BONUS NUMBER</th>\n",
              "    </tr>\n",
              "  </thead>\n",
              "  <tbody>\n",
              "    <tr>\n",
              "      <th>count</th>\n",
              "      <td>3665.0</td>\n",
              "      <td>3665.000000</td>\n",
              "      <td>3665.000000</td>\n",
              "      <td>3665.000000</td>\n",
              "      <td>3665.000000</td>\n",
              "      <td>3665.000000</td>\n",
              "      <td>3665.000000</td>\n",
              "      <td>3665.000000</td>\n",
              "      <td>3665.000000</td>\n",
              "      <td>3665.000000</td>\n",
              "    </tr>\n",
              "    <tr>\n",
              "      <th>mean</th>\n",
              "      <td>649.0</td>\n",
              "      <td>1819.494952</td>\n",
              "      <td>0.030832</td>\n",
              "      <td>7.327694</td>\n",
              "      <td>14.568076</td>\n",
              "      <td>21.890859</td>\n",
              "      <td>28.978445</td>\n",
              "      <td>36.162619</td>\n",
              "      <td>43.099045</td>\n",
              "      <td>24.599454</td>\n",
              "    </tr>\n",
              "    <tr>\n",
              "      <th>std</th>\n",
              "      <td>0.0</td>\n",
              "      <td>1039.239544</td>\n",
              "      <td>0.237984</td>\n",
              "      <td>5.811669</td>\n",
              "      <td>7.556939</td>\n",
              "      <td>8.170073</td>\n",
              "      <td>8.069724</td>\n",
              "      <td>7.190960</td>\n",
              "      <td>5.506424</td>\n",
              "      <td>14.360038</td>\n",
              "    </tr>\n",
              "    <tr>\n",
              "      <th>min</th>\n",
              "      <td>649.0</td>\n",
              "      <td>1.000000</td>\n",
              "      <td>0.000000</td>\n",
              "      <td>1.000000</td>\n",
              "      <td>2.000000</td>\n",
              "      <td>3.000000</td>\n",
              "      <td>4.000000</td>\n",
              "      <td>11.000000</td>\n",
              "      <td>13.000000</td>\n",
              "      <td>0.000000</td>\n",
              "    </tr>\n",
              "    <tr>\n",
              "      <th>25%</th>\n",
              "      <td>649.0</td>\n",
              "      <td>917.000000</td>\n",
              "      <td>0.000000</td>\n",
              "      <td>3.000000</td>\n",
              "      <td>9.000000</td>\n",
              "      <td>16.000000</td>\n",
              "      <td>23.000000</td>\n",
              "      <td>31.000000</td>\n",
              "      <td>40.000000</td>\n",
              "      <td>12.000000</td>\n",
              "    </tr>\n",
              "    <tr>\n",
              "      <th>50%</th>\n",
              "      <td>649.0</td>\n",
              "      <td>1833.000000</td>\n",
              "      <td>0.000000</td>\n",
              "      <td>6.000000</td>\n",
              "      <td>14.000000</td>\n",
              "      <td>22.000000</td>\n",
              "      <td>30.000000</td>\n",
              "      <td>37.000000</td>\n",
              "      <td>45.000000</td>\n",
              "      <td>25.000000</td>\n",
              "    </tr>\n",
              "    <tr>\n",
              "      <th>75%</th>\n",
              "      <td>649.0</td>\n",
              "      <td>2749.000000</td>\n",
              "      <td>0.000000</td>\n",
              "      <td>10.000000</td>\n",
              "      <td>20.000000</td>\n",
              "      <td>28.000000</td>\n",
              "      <td>35.000000</td>\n",
              "      <td>42.000000</td>\n",
              "      <td>47.000000</td>\n",
              "      <td>37.000000</td>\n",
              "    </tr>\n",
              "    <tr>\n",
              "      <th>max</th>\n",
              "      <td>649.0</td>\n",
              "      <td>3591.000000</td>\n",
              "      <td>3.000000</td>\n",
              "      <td>38.000000</td>\n",
              "      <td>43.000000</td>\n",
              "      <td>45.000000</td>\n",
              "      <td>47.000000</td>\n",
              "      <td>48.000000</td>\n",
              "      <td>49.000000</td>\n",
              "      <td>49.000000</td>\n",
              "    </tr>\n",
              "  </tbody>\n",
              "</table>\n",
              "</div>"
            ],
            "text/plain": [
              "       PRODUCT  DRAW NUMBER  ...  NUMBER DRAWN 6  BONUS NUMBER\n",
              "count   3665.0  3665.000000  ...     3665.000000   3665.000000\n",
              "mean     649.0  1819.494952  ...       43.099045     24.599454\n",
              "std        0.0  1039.239544  ...        5.506424     14.360038\n",
              "min      649.0     1.000000  ...       13.000000      0.000000\n",
              "25%      649.0   917.000000  ...       40.000000     12.000000\n",
              "50%      649.0  1833.000000  ...       45.000000     25.000000\n",
              "75%      649.0  2749.000000  ...       47.000000     37.000000\n",
              "max      649.0  3591.000000  ...       49.000000     49.000000\n",
              "\n",
              "[8 rows x 10 columns]"
            ]
          },
          "metadata": {
            "tags": []
          },
          "execution_count": 6
        }
      ]
    },
    {
      "cell_type": "code",
      "metadata": {
        "id": "NAc561UgD6Qo",
        "colab_type": "code",
        "colab": {
          "base_uri": "https://localhost:8080/",
          "height": 225
        },
        "outputId": "4e1d07d7-db94-4807-d1ff-a8c5bee09a31"
      },
      "source": [
        "df1.isnull().sum()"
      ],
      "execution_count": 7,
      "outputs": [
        {
          "output_type": "execute_result",
          "data": {
            "text/plain": [
              "PRODUCT            0\n",
              "DRAW NUMBER        0\n",
              "SEQUENCE NUMBER    0\n",
              "DRAW DATE          0\n",
              "NUMBER DRAWN 1     0\n",
              "NUMBER DRAWN 2     0\n",
              "NUMBER DRAWN 3     0\n",
              "NUMBER DRAWN 4     0\n",
              "NUMBER DRAWN 5     0\n",
              "NUMBER DRAWN 6     0\n",
              "BONUS NUMBER       0\n",
              "dtype: int64"
            ]
          },
          "metadata": {
            "tags": []
          },
          "execution_count": 7
        }
      ]
    },
    {
      "cell_type": "markdown",
      "metadata": {
        "id": "a1GyJT1GEK26",
        "colab_type": "text"
      },
      "source": [
        "# Big Prize\n",
        "\n",
        "we want players to be able to calculate the probability of winning the big prize with the various numbers they play on a single ticket (for each ticket a player chooses six numbers out of 49). So, we'll start by building a function that calculates the probability of winning the big prize for any given ticket"
      ]
    },
    {
      "cell_type": "code",
      "metadata": {
        "id": "wMqCqoVoEGua",
        "colab_type": "code",
        "colab": {}
      },
      "source": [
        "def one_ticket_probability(user_numbers):\n",
        "    \n",
        "    n_combinations = combinations(49, 6)\n",
        "    probability_one_ticket = 1/n_combinations\n",
        "    percentage_form = probability_one_ticket * 100\n",
        "    \n",
        "    print('''Your chances to win the big prize with the numbers {} are {:.7f}%.\n",
        "In other words, you have a 1 in {:,} chances to win.'''.format(user_numbers,\n",
        "                    percentage_form, int(n_combinations)))"
      ],
      "execution_count": 8,
      "outputs": []
    },
    {
      "cell_type": "code",
      "metadata": {
        "id": "B48xefiIEkJ8",
        "colab_type": "code",
        "colab": {
          "base_uri": "https://localhost:8080/",
          "height": 52
        },
        "outputId": "4dd97a32-33e1-4bf1-e275-cdfd361ce878"
      },
      "source": [
        "test_input_1 = [2, 43, 22, 23, 11, 5]\n",
        "one_ticket_probability(test_input_1)"
      ],
      "execution_count": 9,
      "outputs": [
        {
          "output_type": "stream",
          "text": [
            "Your chances to win the big prize with the numbers [2, 43, 22, 23, 11, 5] are 0.0000072%.\n",
            "In other words, you have a 1 in 13,983,816 chances to win.\n"
          ],
          "name": "stdout"
        }
      ]
    },
    {
      "cell_type": "code",
      "metadata": {
        "id": "XXRVpOQUEtuY",
        "colab_type": "code",
        "colab": {
          "base_uri": "https://localhost:8080/",
          "height": 52
        },
        "outputId": "957128f8-513b-4f59-ba86-afbc7bf7b676"
      },
      "source": [
        "test_input_2 = [9, 26, 41, 7, 15, 6]\n",
        "one_ticket_probability(test_input_2)"
      ],
      "execution_count": 10,
      "outputs": [
        {
          "output_type": "stream",
          "text": [
            "Your chances to win the big prize with the numbers [9, 26, 41, 7, 15, 6] are 0.0000072%.\n",
            "In other words, you have a 1 in 13,983,816 chances to win.\n"
          ],
          "name": "stdout"
        }
      ]
    },
    {
      "cell_type": "code",
      "metadata": {
        "id": "R0I-qyx6GOCI",
        "colab_type": "code",
        "colab": {
          "base_uri": "https://localhost:8080/",
          "height": 86
        },
        "outputId": "1d9473c9-b40f-4f54-adee-ed5c45513f84"
      },
      "source": [
        "df1.columns"
      ],
      "execution_count": 11,
      "outputs": [
        {
          "output_type": "execute_result",
          "data": {
            "text/plain": [
              "Index(['PRODUCT', 'DRAW NUMBER', 'SEQUENCE NUMBER', 'DRAW DATE',\n",
              "       'NUMBER DRAWN 1', 'NUMBER DRAWN 2', 'NUMBER DRAWN 3', 'NUMBER DRAWN 4',\n",
              "       'NUMBER DRAWN 5', 'NUMBER DRAWN 6', 'BONUS NUMBER'],\n",
              "      dtype='object')"
            ]
          },
          "metadata": {
            "tags": []
          },
          "execution_count": 11
        }
      ]
    },
    {
      "cell_type": "code",
      "metadata": {
        "id": "XBD1K-jZEy0x",
        "colab_type": "code",
        "colab": {}
      },
      "source": [
        "def extract_numbers(x):\n",
        "  tkt_num_cols =['NUMBER DRAWN 1', 'NUMBER DRAWN 2', 'NUMBER DRAWN 3', 'NUMBER DRAWN 4','NUMBER DRAWN 5', 'NUMBER DRAWN 6']\n",
        "  x = x[tkt_num_cols]\n",
        "  x = set(x.values)\n",
        "  return(x)\n"
      ],
      "execution_count": 12,
      "outputs": []
    },
    {
      "cell_type": "code",
      "metadata": {
        "id": "PAs1R_-ZHOsw",
        "colab_type": "code",
        "colab": {}
      },
      "source": [
        "win_lott_nums= df1.apply(extract_numbers, axis = 1)"
      ],
      "execution_count": 13,
      "outputs": []
    },
    {
      "cell_type": "code",
      "metadata": {
        "id": "6AEkX9jPHOgx",
        "colab_type": "code",
        "colab": {}
      },
      "source": [
        "def check_historical_occurrence(user_numbers, historical_numbers):   \n",
        "    '''\n",
        "    user_numbers: a Python list\n",
        "    historical numbers: a pandas Series\n",
        "    '''\n",
        "    user_numbers_set = set(user_numbers)\n",
        "    check_occurrence = historical_numbers == user_numbers_set\n",
        "    n_occurrences = check_occurrence.sum()\n",
        "    \n",
        "    if n_occurrences == 0:\n",
        "        print('''The combination {} has never occured.\n",
        "This doesn't mean it's more likely to occur now. Your chances to win the big prize in the next drawing using the combination {} are 0.0000072%.\n",
        "In other words, you have a 1 in 13,983,816 chances to win.'''.format(user_numbers, user_numbers))\n",
        "        \n",
        "    else:\n",
        "        print('''The number of times combination {} has occured in the past is {}.\n",
        "Your chances to win the big prize in the next drawing using the combination {} are 0.0000072%.\n",
        "In other words, you have a 1 in 13,983,816 chances to win.'''.format(user_numbers, n_occurrences,\n",
        "                                                                            user_numbers))"
      ],
      "execution_count": 14,
      "outputs": []
    },
    {
      "cell_type": "markdown",
      "metadata": {
        "id": "OMMyH5pzKQwE",
        "colab_type": "text"
      },
      "source": [
        "Testing for possible input strings"
      ]
    },
    {
      "cell_type": "code",
      "metadata": {
        "id": "fVlE9ksyKVnl",
        "colab_type": "code",
        "colab": {}
      },
      "source": [
        "test_input_3 = [33, 36, 37, 39, 8, 41]"
      ],
      "execution_count": 15,
      "outputs": []
    },
    {
      "cell_type": "code",
      "metadata": {
        "id": "xlTKRzEXKmaS",
        "colab_type": "code",
        "colab": {
          "base_uri": "https://localhost:8080/",
          "height": 69
        },
        "outputId": "eb7380e6-b20a-4845-b707-a844a0368f1f"
      },
      "source": [
        "check_historical_occurrence(test_input_3, win_lott_nums)"
      ],
      "execution_count": 16,
      "outputs": [
        {
          "output_type": "stream",
          "text": [
            "The number of times combination [33, 36, 37, 39, 8, 41] has occured in the past is 1.\n",
            "Your chances to win the big prize in the next drawing using the combination [33, 36, 37, 39, 8, 41] are 0.0000072%.\n",
            "In other words, you have a 1 in 13,983,816 chances to win.\n"
          ],
          "name": "stdout"
        }
      ]
    },
    {
      "cell_type": "code",
      "metadata": {
        "id": "fZ6rrlfWOXT2",
        "colab_type": "code",
        "colab": {
          "base_uri": "https://localhost:8080/",
          "height": 89
        },
        "outputId": "ee9bd6a5-16be-4c7c-bbbf-24e9b30e7a33"
      },
      "source": [
        "\n",
        "test_input_4 = [3, 2, 44, 22, 1, 44]\n",
        "check_historical_occurrence(test_input_4, win_lott_nums)"
      ],
      "execution_count": 17,
      "outputs": [
        {
          "output_type": "stream",
          "text": [
            "The combination [3, 2, 44, 22, 1, 44] has never occured.\n",
            "This doesn't mean it's more likely to occur now. Your chances to win the big prize in the next drawing using the combination [3, 2, 44, 22, 1, 44] are 0.0000072%.\n",
            "In other words, you have a 1 in 13,983,816 chances to win.\n"
          ],
          "name": "stdout"
        }
      ]
    },
    {
      "cell_type": "markdown",
      "metadata": {
        "id": "Ud9zq4qFOslT",
        "colab_type": "text"
      },
      "source": [
        "# Multi-ticket Probability\n",
        "For the first version of the app, users should also be able to find the probability of winning if they play multiple different tickets. For instance, someone might intend to play 15 different tickets and they want to know the probability of winning the big prize.\n",
        "\n",
        "The engineering team wants us to be aware of the following details when we're writing the function:\n",
        "\n",
        "The user will input the number of different tickets they want to play (without inputting the specific combinations they intend to play).\n",
        "Our function will see an integer between 1 and 13,983,816 (the maximum number of different tickets).\n",
        "The function should print information about the probability of winning the big prize depending on the number of different tickets played.\n",
        "The multi_ticket_probability() function below takes in the number of tickets and prints probability information depending on the input."
      ]
    },
    {
      "cell_type": "code",
      "metadata": {
        "id": "3Tsk_eOfOrp4",
        "colab_type": "code",
        "colab": {}
      },
      "source": [
        "def multi_ticket_probability(n_tickets):\n",
        "    \n",
        "    n_combinations = combinations(49, 6)\n",
        "    \n",
        "    probability = n_tickets / n_combinations\n",
        "    percentage_form = probability * 100\n",
        "    \n",
        "    if n_tickets == 1:\n",
        "        print('''Your chances to win the big prize with one ticket are {:.6f}%.\n",
        "In other words, you have a 1 in {:,} chances to win.'''.format(percentage_form, int(n_combinations)))\n",
        "    \n",
        "    else:\n",
        "        combinations_simplified = round(n_combinations / n_tickets)   \n",
        "        print('''Your chances to win the big prize with {:,} different tickets are {:.6f}%.\n",
        "In other words, you have a 1 in {:,} chances to win.'''.format(n_tickets, percentage_form,\n",
        "                                                               combinations_simplified))"
      ],
      "execution_count": 18,
      "outputs": []
    },
    {
      "cell_type": "markdown",
      "metadata": {
        "id": "P_PvSTjRO6DW",
        "colab_type": "text"
      },
      "source": [
        "Below, we run a couple of tests for our function.\n",
        "\n"
      ]
    },
    {
      "cell_type": "code",
      "metadata": {
        "id": "-oButc2dO-om",
        "colab_type": "code",
        "colab": {
          "base_uri": "https://localhost:8080/",
          "height": 382
        },
        "outputId": "d5a81090-4707-457f-a496-b124862ad8d4"
      },
      "source": [
        "test_inputs = [1, 10, 100, 10000, 1000000, 6991908, 13983816]\n",
        "\n",
        "for test_input in test_inputs:\n",
        "    multi_ticket_probability(test_input)\n",
        "    print('------------------------') # output delimiter"
      ],
      "execution_count": 19,
      "outputs": [
        {
          "output_type": "stream",
          "text": [
            "Your chances to win the big prize with one ticket are 0.000007%.\n",
            "In other words, you have a 1 in 13,983,816 chances to win.\n",
            "------------------------\n",
            "Your chances to win the big prize with 10 different tickets are 0.000072%.\n",
            "In other words, you have a 1 in 1,398,382 chances to win.\n",
            "------------------------\n",
            "Your chances to win the big prize with 100 different tickets are 0.000715%.\n",
            "In other words, you have a 1 in 139,838 chances to win.\n",
            "------------------------\n",
            "Your chances to win the big prize with 10,000 different tickets are 0.071511%.\n",
            "In other words, you have a 1 in 1,398 chances to win.\n",
            "------------------------\n",
            "Your chances to win the big prize with 1,000,000 different tickets are 7.151124%.\n",
            "In other words, you have a 1 in 14 chances to win.\n",
            "------------------------\n",
            "Your chances to win the big prize with 6,991,908 different tickets are 50.000000%.\n",
            "In other words, you have a 1 in 2 chances to win.\n",
            "------------------------\n",
            "Your chances to win the big prize with 13,983,816 different tickets are 100.000000%.\n",
            "In other words, you have a 1 in 1 chances to win.\n",
            "------------------------\n"
          ],
          "name": "stdout"
        }
      ]
    },
    {
      "cell_type": "markdown",
      "metadata": {
        "id": "0gDGEvW6PENu",
        "colab_type": "text"
      },
      "source": [
        "Less Winning Numbers — Function\n",
        "In most 6/49 lotteries, there are smaller prizes if a player's ticket match two, three, four, or five of the six numbers drawn. This means that players might be interested in finding out the probability of having two, three, four, or five winning numbers — for the first version of the app, users should be able to find those probabilities.\n",
        "\n",
        "These are the details we need to be aware of when we write a function to make the calculations of those probabilities possible:\n",
        "\n",
        "- Inside the app, the user inputs:\n",
        "   - six different numbers from 1 to 49; and\n",
        "   - an integer between 2 and 5 that represents the number of winning numbers expected\n",
        "\n",
        "- Our function prints information about the probability of having a certain number of winning numbers\n",
        "\n",
        "To calculate the probabilities, we tell the engineering team that the specific combination on the ticket is irrelevant and we only need the integer between 2 and 5 representing the number of winning numbers expected. Consequently, we will write a function named probability_less_6() which takes in an integer and prints information about the chances of winning depending on the value of that integer."
      ]
    },
    {
      "cell_type": "code",
      "metadata": {
        "id": "UfN5gc9WQx9M",
        "colab_type": "code",
        "colab": {}
      },
      "source": [
        "def probability_less_6(n_winning_numbers):\n",
        "    \n",
        "    n_combinations_ticket = combinations(6, n_winning_numbers)\n",
        "    n_combinations_remaining = combinations(49 - n_winning_numbers,\n",
        "                                           6 - n_winning_numbers)\n",
        "    successful_outcomes = n_combinations_ticket * n_combinations_remaining\n",
        "    n_combinations_total = combinations(49, 6)\n",
        "    \n",
        "    probability = successful_outcomes / n_combinations_total\n",
        "    probability_percentage = probability * 100\n",
        "    \n",
        "    combinations_simplified = round(n_combinations_total/successful_outcomes)\n",
        "    \n",
        "    print('''Your chances of having {} winning numbers with this ticket are {:.6f}%.\n",
        "In other words, you have a 1 in {:,} chances to win.'''.format(n_winning_numbers, probability_percentage,\n",
        "                                                               int(combinations_simplified)))"
      ],
      "execution_count": 20,
      "outputs": []
    },
    {
      "cell_type": "code",
      "metadata": {
        "id": "S3g17a0rQ3Oe",
        "colab_type": "code",
        "colab": {
          "base_uri": "https://localhost:8080/",
          "height": 225
        },
        "outputId": "5d3db303-a5bf-4e4a-c499-afb73aff5450"
      },
      "source": [
        "for test_input in [2, 3, 4, 5]:\n",
        "    probability_less_6(test_input)\n",
        "    print('--------------------------') # output delimiter"
      ],
      "execution_count": 21,
      "outputs": [
        {
          "output_type": "stream",
          "text": [
            "Your chances of having 2 winning numbers with this ticket are 19.132653%.\n",
            "In other words, you have a 1 in 5 chances to win.\n",
            "--------------------------\n",
            "Your chances of having 3 winning numbers with this ticket are 2.171081%.\n",
            "In other words, you have a 1 in 46 chances to win.\n",
            "--------------------------\n",
            "Your chances of having 4 winning numbers with this ticket are 0.106194%.\n",
            "In other words, you have a 1 in 942 chances to win.\n",
            "--------------------------\n",
            "Your chances of having 5 winning numbers with this ticket are 0.001888%.\n",
            "In other words, you have a 1 in 52,969 chances to win.\n",
            "--------------------------\n"
          ],
          "name": "stdout"
        }
      ]
    }
  ]
}