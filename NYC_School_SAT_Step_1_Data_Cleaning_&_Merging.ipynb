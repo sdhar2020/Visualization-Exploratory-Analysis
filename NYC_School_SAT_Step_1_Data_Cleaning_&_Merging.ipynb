{
  "nbformat": 4,
  "nbformat_minor": 0,
  "metadata": {
    "colab": {
      "name": "NYC School SAT: Step 1 Data Cleaning & Merging",
      "provenance": [],
      "collapsed_sections": [],
      "include_colab_link": true
    },
    "kernelspec": {
      "name": "python3",
      "display_name": "Python 3"
    }
  },
  "cells": [
    {
      "cell_type": "markdown",
      "metadata": {
        "id": "view-in-github",
        "colab_type": "text"
      },
      "source": [
        "<a href=\"https://colab.research.google.com/github/sdhar2020/Visualization-Exploratory-Analysis/blob/master/NYC_School_SAT_Step_1_Data_Cleaning_%26_Merging.ipynb\" target=\"_parent\"><img src=\"https://colab.research.google.com/assets/colab-badge.svg\" alt=\"Open In Colab\"/></a>"
      ]
    },
    {
      "cell_type": "markdown",
      "metadata": {
        "id": "10eiNstNkcK7",
        "colab_type": "text"
      },
      "source": [
        "# Introduction\n",
        "One of the most controversial issues in the U.S. educational system is the efficacy of standardized tests, and whether they're unfair to certain groups. Given our prior knowledge of this topic, investigating the correlations between SAT scores and demographics might be an interesting angle to take. We could correlate SAT scores with factors like race, gender, income, and more.\n",
        "\n",
        "The SAT, or Scholastic Aptitude Test, is an exam that U.S. high school students take before applying to college. Colleges take the test scores into account when deciding who to admit, so it's fairly important to perform well on it.\n",
        "\n",
        "In order to investigate the key drivers of performance we shall use the following publicly available datasets and combine them to analyze performance based on attributes:\n",
        "\n",
        "\n",
        "\n",
        "* SAT scores by school - SAT scores for each high school in New York City\n",
        "* Class size - Information on class size for each school\n",
        "* AP test results - Advanced Placement (AP) exam results for each high school (passing an optional AP exam in a particular subject can earn a student college credit in that subject)\n",
        "* Graduation outcomes - The percentage of students who graduated, and other outcome information\n",
        "* Demographics - Demographic information for each school\n",
        "School survey - Surveys of parents, teachers, and students at each school\n",
        "* High School Directory; school details\n",
        "\n"
      ]
    },
    {
      "cell_type": "markdown",
      "metadata": {
        "id": "D0P37rtCNf-D",
        "colab_type": "text"
      },
      "source": [
        "## Installing sodapy\n",
        "\n",
        "The NYC school data is available at https://opendata.cityofnewyork.us/data/ and available via the Socrata Open Data API. Sodapy package is the package installed run time to download the data"
      ]
    },
    {
      "cell_type": "code",
      "metadata": {
        "id": "Ndyg3bUaihNx",
        "colab_type": "code",
        "colab": {
          "base_uri": "https://localhost:8080/",
          "height": 193
        },
        "outputId": "3293201c-a583-4b8d-ad6b-74ffb5d441e2"
      },
      "source": [
        "\n",
        "!pip install sodapy"
      ],
      "execution_count": null,
      "outputs": [
        {
          "output_type": "stream",
          "text": [
            "Collecting sodapy\n",
            "  Downloading https://files.pythonhosted.org/packages/9e/74/95fb7d45bbe7f1de43caac45d7dd4807ef1e15881564a00eef489a3bb5c6/sodapy-2.1.0-py2.py3-none-any.whl\n",
            "Requirement already satisfied: requests>=2.20.0 in /usr/local/lib/python3.6/dist-packages (from sodapy) (2.23.0)\n",
            "Requirement already satisfied: urllib3!=1.25.0,!=1.25.1,<1.26,>=1.21.1 in /usr/local/lib/python3.6/dist-packages (from requests>=2.20.0->sodapy) (1.24.3)\n",
            "Requirement already satisfied: chardet<4,>=3.0.2 in /usr/local/lib/python3.6/dist-packages (from requests>=2.20.0->sodapy) (3.0.4)\n",
            "Requirement already satisfied: idna<3,>=2.5 in /usr/local/lib/python3.6/dist-packages (from requests>=2.20.0->sodapy) (2.9)\n",
            "Requirement already satisfied: certifi>=2017.4.17 in /usr/local/lib/python3.6/dist-packages (from requests>=2.20.0->sodapy) (2020.6.20)\n",
            "Installing collected packages: sodapy\n",
            "Successfully installed sodapy-2.1.0\n"
          ],
          "name": "stdout"
        }
      ]
    },
    {
      "cell_type": "markdown",
      "metadata": {
        "id": "0QRMy3NGOY8k",
        "colab_type": "text"
      },
      "source": [
        "## Loading API data in Data frames\n",
        "\n",
        "Manually browsed the data set keys on the web site and built a dictionary with the data frame name and the keys.\n",
        "Loop through, read the data, cnvert into dataframe and stored as dictionary key, value pair in pandas"
      ]
    },
    {
      "cell_type": "code",
      "metadata": {
        "id": "T682ZGk8jGoQ",
        "colab_type": "code",
        "colab": {
          "base_uri": "https://localhost:8080/",
          "height": 139
        },
        "outputId": "e1847669-f6a4-4cf3-a5bd-d1c6147951ac"
      },
      "source": [
        "import pandas as pd\n",
        "from sodapy import Socrata\n",
        "\n",
        "data = {}\n",
        "datakey = {'ap_2010':'itfs-ms3e',\n",
        "          'class_size':'urz7-pzb3',\n",
        "          'demographics':'ihfw-zy9j',\n",
        "          'graduation':'vh2h-md7a',\n",
        "          'hs_directory':'n3p6-zve2',\n",
        "          'sat_results':'f9bf-2cp4',\n",
        "          'd75_survey': 'kfrx-hgf8'}\n",
        "\n",
        "# Unauthenticated client only works with public data sets. Note 'None'\n",
        "# in place of application token, and no username or password:\n",
        "#client = Socrata(\"data.cityofnewyork.us\", None)\n",
        "client = Socrata('data.cityofnewyork.us',\n",
        "                 'huqpRxRLzufV4wV0kQAmqEt1D',\n",
        "                 username=\"sdhar.colab@gmail.com\",\n",
        "                 password=\"Aug3!2019\")\n",
        "# First 2000 results, returned as JSON from API / converted to Python list of\n",
        "# dictionaries by sodapy.\n",
        "for k,v in datakey.items():\n",
        "    results = client.get(v, limit=200000)\n",
        "    # Convert to pandas DataFrame\n",
        "    df = pd.DataFrame.from_records(results)\n",
        "    print('name:',k, 'shape:', df.shape)\n",
        "    data[k]= df"
      ],
      "execution_count": null,
      "outputs": [
        {
          "output_type": "stream",
          "text": [
            "name: ap_2010 shape: (258, 5)\n",
            "name: class_size shape: (27611, 16)\n",
            "name: demographics shape: (10075, 38)\n",
            "name: graduation shape: (25096, 23)\n",
            "name: hs_directory shape: (435, 69)\n",
            "name: sat_results shape: (478, 6)\n",
            "name: d75_survey shape: (56, 105)\n"
          ],
          "name": "stdout"
        }
      ]
    },
    {
      "cell_type": "markdown",
      "metadata": {
        "id": "y18ZEUaCPJSZ",
        "colab_type": "text"
      },
      "source": [
        "## Investigating data\n"
      ]
    },
    {
      "cell_type": "code",
      "metadata": {
        "id": "astkW0BCPNSn",
        "colab_type": "code",
        "colab": {
          "base_uri": "https://localhost:8080/",
          "height": 1000
        },
        "outputId": "5bd0c98c-abf2-4501-b142-48a45d6ec5cb"
      },
      "source": [
        "for key in data:\n",
        "    df= data[key]\n",
        "    print('__________________________________________')\n",
        "    print(key,':', '\\n')\n",
        "    print(df.shape)\n",
        "    print(df.head(2).transpose())\n",
        "    print('__________________________________________')"
      ],
      "execution_count": null,
      "outputs": [
        {
          "output_type": "stream",
          "text": [
            "__________________________________________\n",
            "ap_2010 : \n",
            "\n",
            "(258, 5)\n",
            "                                                                 0                       1\n",
            "dbn                                                         01M448                  01M450\n",
            "schoolname                            UNIVERSITY NEIGHBORHOOD H.S.  EAST SIDE COMMUNITY HS\n",
            "ap_test_takers_                                                 39                      19\n",
            "total_exams_taken                                               49                      21\n",
            "number_of_exams_with_scores_3_4_or_5                            10                     NaN\n",
            "__________________________________________\n",
            "__________________________________________\n",
            "class_size : \n",
            "\n",
            "(27611, 16)\n",
            "                                                             0                          1\n",
            "csd                                                          1                          1\n",
            "borough                                                      M                          M\n",
            "school_code                                               M015                       M015\n",
            "school_name                          P.S. 015 Roberto Clemente  P.S. 015 Roberto Clemente\n",
            "grade_                                                      0K                         0K\n",
            "program_type                                            GEN ED                        CTT\n",
            "core_subject_ms_core_and_9_12_only_                          -                          -\n",
            "core_course_ms_core_and_9_12_only_                           -                          -\n",
            "service_category_k_9_only_                                   -                          -\n",
            "number_of_students_seats_filled                             19                         21\n",
            "number_of_sections                                           1                          1\n",
            "average_class_size                                        19.0                       21.0\n",
            "size_of_smallest_class                                      19                         21\n",
            "size_of_largest_class                                       19                         21\n",
            "data_source                                                ATS                        ATS\n",
            "schoolwide_pupil_teacher_ratio                             NaN                        NaN\n",
            "__________________________________________\n",
            "__________________________________________\n",
            "demographics : \n",
            "\n",
            "(10075, 38)\n",
            "                                           0                          1\n",
            "dbn                                   01M015                     01M015\n",
            "name               P.S. 015 ROBERTO CLEMENTE  P.S. 015 ROBERTO CLEMENTE\n",
            "schoolyear                          20052006                   20062007\n",
            "fl_percent                              89.4                       89.4\n",
            "total_enrollment                         281                        243\n",
            "prek                                      15                         15\n",
            "k                                         36                         29\n",
            "grade1                                    40                         39\n",
            "grade2                                    33                         38\n",
            "grade3                                    38                         34\n",
            "grade4                                    52                         42\n",
            "grade5                                    29                         46\n",
            "grade6                                    38                        NaN\n",
            "ell_num                                   36                         38\n",
            "ell_percent                             12.8                       15.6\n",
            "sped_num                                  57                         55\n",
            "sped_percent                            20.3                       22.6\n",
            "ctt_num                                   25                         19\n",
            "selfcontained_num                          9                         15\n",
            "asian_num                                 10                         18\n",
            "asian_per                                3.6                        7.4\n",
            "black_num                                 74                         68\n",
            "black_per                               26.3                         28\n",
            "hispanic_num                             189                        153\n",
            "hispanic_per                            67.3                         63\n",
            "white_num                                  5                          4\n",
            "white_per                                1.8                        1.6\n",
            "male_num                                 158                        140\n",
            "male_per                                56.2                       57.6\n",
            "female_num                               123                        103\n",
            "female_per                              43.8                       42.4\n",
            "frl_percent                              NaN                        NaN\n",
            "grade7                                   NaN                        NaN\n",
            "grade8                                   NaN                        NaN\n",
            "grade9                                   NaN                        NaN\n",
            "grade10                                  NaN                        NaN\n",
            "grade11                                  NaN                        NaN\n",
            "grade12                                  NaN                        NaN\n",
            "__________________________________________\n",
            "__________________________________________\n",
            "graduation : \n",
            "\n",
            "(25096, 23)\n",
            "                                                                    0                                      1\n",
            "demographic                                              Total Cohort                           Total Cohort\n",
            "dbn                                                            01M292                                 01M292\n",
            "school_name                     HENRY STREET SCHOOL FOR INTERNATIONAL  HENRY STREET SCHOOL FOR INTERNATIONAL\n",
            "cohort                                                           2003                                   2004\n",
            "total_cohort                                                        5                                     55\n",
            "total_grads_n                                                       s                                     37\n",
            "total_regents_n                                                     s                                     17\n",
            "advanced_regents_n                                                  s                                      0\n",
            "regents_w_o_advanced_n                                              s                                     17\n",
            "local_n                                                             s                                     20\n",
            "still_enrolled_n                                                    s                                     15\n",
            "dropped_out_n                                                       s                                      3\n",
            "total_grads_of_cohort                                             NaN                                   67.3\n",
            "total_regents_of_cohort                                           NaN                                   30.9\n",
            "total_regents_of_grads                                            NaN                                   45.9\n",
            "advanced_regents_of_cohort                                        NaN                                      0\n",
            "advanced_regents_of_grads                                         NaN                                      0\n",
            "regents_w_o_advanced_of_cohort                                    NaN                                   30.9\n",
            "regents_w_o_advanced_of_grads                                     NaN                                   45.9\n",
            "local_of_cohort                                                   NaN                                   36.4\n",
            "local_of_grads                                                    NaN                                   54.1\n",
            "still_enrolled_of_cohort                                          NaN                                   27.3\n",
            "dropped_out_of_cohort                                             NaN                                    5.5\n",
            "__________________________________________\n",
            "__________________________________________\n",
            "hs_directory : \n",
            "\n",
            "(435, 69)\n",
            "                                        0                                   1\n",
            "dbn                                21K540                              15K429\n",
            "school_name        John Dewey High School  Brooklyn School for Global Studies\n",
            "boro                             Brooklyn                            Brooklyn\n",
            "building_code                        K540                                K293\n",
            "phone_number                 718-373-6400                        718-694-9741\n",
            "...                                   ...                                 ...\n",
            "expgrade_span_max                     NaN                                 NaN\n",
            "priority07                            NaN                                 NaN\n",
            "priority08                            NaN                                 NaN\n",
            "priority09                            NaN                                 NaN\n",
            "priority10                            NaN                                 NaN\n",
            "\n",
            "[69 rows x 2 columns]\n",
            "__________________________________________\n",
            "__________________________________________\n",
            "sat_results : \n",
            "\n",
            "(478, 6)\n",
            "                                                                            0                                    1\n",
            "dbn                                                                    01M292                               01M448\n",
            "school_name                     HENRY STREET SCHOOL FOR INTERNATIONAL STUDIES  UNIVERSITY NEIGHBORHOOD HIGH SCHOOL\n",
            "num_of_sat_test_takers                                                     29                                   91\n",
            "sat_critical_reading_avg_score                                            355                                  383\n",
            "sat_math_avg_score                                                        404                                  423\n",
            "sat_writing_avg_score                                                     363                                  366\n",
            "__________________________________________\n",
            "__________________________________________\n",
            "d75_survey : \n",
            "\n",
            "(56, 105)\n",
            "                    0          1\n",
            "dbn            75K004     75K036\n",
            "sch_type           ES   ES/MS/HS\n",
            "location    P.S. K004  P.S. K036\n",
            "enrollment        320        292\n",
            "borough      BROOKLYN   BROOKLYN\n",
            "...               ...        ...\n",
            "nr_s              NaN        156\n",
            "saf_s_10          NaN        6.4\n",
            "com_s_10          NaN        5.8\n",
            "eng_s_10          NaN        6.9\n",
            "aca_s_10          NaN        7.3\n",
            "\n",
            "[105 rows x 2 columns]\n",
            "__________________________________________\n"
          ],
          "name": "stdout"
        }
      ]
    },
    {
      "cell_type": "markdown",
      "metadata": {
        "id": "77DMBOBuJOXF",
        "colab_type": "text"
      },
      "source": [
        "## 1 More File\n",
        "\n",
        "There are 2 more files that are csv that needs to be included. School survey information from 2011..."
      ]
    },
    {
      "cell_type": "code",
      "metadata": {
        "id": "sgc0ui05JXlQ",
        "colab_type": "code",
        "colab": {
          "base_uri": "https://localhost:8080/",
          "height": 124
        },
        "outputId": "ddeb86d2-3540-4f46-d904-40c6fa6b190e"
      },
      "source": [
        "import zipfile\n",
        "from google.colab import drive\n",
        "\n",
        "drive.mount('/content/drive/')"
      ],
      "execution_count": null,
      "outputs": [
        {
          "output_type": "stream",
          "text": [
            "Go to this URL in a browser: https://accounts.google.com/o/oauth2/auth?client_id=947318989803-6bn6qk8qdgf4n4g3pfee6491hc0brc4i.apps.googleusercontent.com&redirect_uri=urn%3aietf%3awg%3aoauth%3a2.0%3aoob&response_type=code&scope=email%20https%3a%2f%2fwww.googleapis.com%2fauth%2fdocs.test%20https%3a%2f%2fwww.googleapis.com%2fauth%2fdrive%20https%3a%2f%2fwww.googleapis.com%2fauth%2fdrive.photos.readonly%20https%3a%2f%2fwww.googleapis.com%2fauth%2fpeopleapi.readonly\n",
            "\n",
            "Enter your authorization code:\n",
            "··········\n",
            "Mounted at /content/drive/\n"
          ],
          "name": "stdout"
        }
      ]
    },
    {
      "cell_type": "code",
      "metadata": {
        "id": "pStlqcAX-kD2",
        "colab_type": "code",
        "colab": {
          "base_uri": "https://localhost:8080/",
          "height": 156
        },
        "outputId": "e8777cb5-5319-485f-e114-221431c06049"
      },
      "source": [
        "import zipfile\n",
        "zip_ref = zipfile.ZipFile(\"/content/drive/My Drive/Data/NYC School Data/2011_School_Survey.zip\", 'r')\n",
        "zip_ref.extractall(\"/content/drive/My Drive/Data/NYC School Data/\")\n",
        "zip_ref.close()\n",
        "\n",
        "folder = \"/content/drive/My Drive/Data/NYC School Data/2011 data files online/\"\n",
        "filen = folder+'masterfile11_gened_final.txt'\n",
        "all_survey = pd.read_csv(filen, delimiter= '\\t', encoding = 'windows-1252')\n",
        "df = data['d75_survey']\n",
        "survey = pd.concat([all_survey, df], axis=0, sort = True)\n",
        "print(survey.shape)\n",
        "\n",
        "data['survey']= survey\n",
        "\n",
        "# Final Data Frame Dictionary\n",
        "\n",
        "# for key in data:\n",
        "#     df= data[key]\n",
        "#     print('__________________________________________')\n",
        "#     print(key,':', '\\n')\n",
        "#     print(df.shape)\n",
        "#     print(df.head(1).transpose())\n",
        "#     print('__________________________________________')\n",
        "del data['d75_survey']\n",
        "\n",
        "for key in data:\n",
        "  print(key)"
      ],
      "execution_count": null,
      "outputs": [
        {
          "output_type": "stream",
          "text": [
            "(1702, 2014)\n",
            "ap_2010\n",
            "class_size\n",
            "demographics\n",
            "graduation\n",
            "hs_directory\n",
            "sat_results\n",
            "survey\n"
          ],
          "name": "stdout"
        }
      ]
    },
    {
      "cell_type": "markdown",
      "metadata": {
        "id": "Bx_WPy1Vl-ZR",
        "colab_type": "text"
      },
      "source": [
        "The data source provides us a data dictionary [here](https://data.cityofnewyork.us/Education/2011-NYC-School-Survey/mnz3-dyi8) Based on the description a subset is deemed important"
      ]
    },
    {
      "cell_type": "code",
      "metadata": {
        "id": "M3iMEXwomtCT",
        "colab_type": "code",
        "colab": {
          "base_uri": "https://localhost:8080/",
          "height": 434
        },
        "outputId": "d79842d8-4c18-4f17-e314-0dc77324f5f6"
      },
      "source": [
        "req_cols= [\"dbn\", \"rr_s\", \"rr_t\", \"rr_p\", \"N_s\", \"N_t\", \"N_p\", \"saf_p_11\", \n",
        "           \"com_p_11\", \"eng_p_11\", \"aca_p_11\", \"saf_t_11\", \"com_t_11\", \"eng_t_11\",\n",
        "           \"aca_t_11\", \"saf_s_11\", \"com_s_11\", \n",
        "           \"eng_s_11\", \"aca_s_11\", \"saf_tot_11\", \"com_tot_11\", \"eng_tot_11\", \"aca_tot_11\"]\n",
        "\n",
        "print(survey[req_cols].head(2).transpose())"
      ],
      "execution_count": null,
      "outputs": [
        {
          "output_type": "stream",
          "text": [
            "                 0       1\n",
            "dbn         01M015  01M019\n",
            "rr_s           NaN     NaN\n",
            "rr_t            88     100\n",
            "rr_p            60      60\n",
            "N_s            NaN     NaN\n",
            "N_t             22      34\n",
            "N_p             90     161\n",
            "saf_p_11       8.5     8.4\n",
            "com_p_11       7.6     7.6\n",
            "eng_p_11       7.5     7.6\n",
            "aca_p_11       7.8     7.8\n",
            "saf_t_11       7.5     8.6\n",
            "com_t_11       7.8     8.5\n",
            "eng_t_11       7.6     8.9\n",
            "aca_t_11       7.9     9.1\n",
            "saf_s_11       NaN     NaN\n",
            "com_s_11       NaN     NaN\n",
            "eng_s_11       NaN     NaN\n",
            "aca_s_11       NaN     NaN\n",
            "saf_tot_11       8     8.5\n",
            "com_tot_11     7.7     8.1\n",
            "eng_tot_11     7.5     8.2\n",
            "aca_tot_11     7.9     8.4\n"
          ],
          "name": "stdout"
        }
      ]
    },
    {
      "cell_type": "markdown",
      "metadata": {
        "id": "wCu0tue1nZVx",
        "colab_type": "text"
      },
      "source": [
        "## Case of missing dbn number\n",
        "When we explored all of the data sets, we noticed that some of them, like class_size and hs_directory, don't have a DBN column. hs_directory does have a dbn column, though, so we can just rename it.\n",
        "\n",
        "From looking at these rows, we can tell that the DBN in the sat_results data is just a combination of the CSD and SCHOOL CODE columns in the class_size data. The main difference is that the DBN is padded, so that the CSD portion of it always consists of two digits. That means we'll need to add a leading 0 to the CSD if the CSD is less than two digits long.\n",
        "\n"
      ]
    },
    {
      "cell_type": "code",
      "metadata": {
        "id": "9WODjdt1n1LI",
        "colab_type": "code",
        "colab": {
          "base_uri": "https://localhost:8080/",
          "height": 156
        },
        "outputId": "c4b3cb9b-587b-4671-93bb-42e70f2ba86e"
      },
      "source": [
        "data[\"hs_directory\"][\"DBN\"] = data[\"hs_directory\"][\"dbn\"]\n",
        "\n",
        "def pad_csd(num):\n",
        "    return str(num).zfill(2)\n",
        "    \n",
        "data[\"class_size\"][\"padded_csd\"] = data[\"class_size\"][\"csd\"].apply(pad_csd)\n",
        "data[\"class_size\"][\"dbn\"] = data[\"class_size\"][\"padded_csd\"] + data[\"class_size\"][\"school_code\"]\n",
        "print(data[\"class_size\"].head())"
      ],
      "execution_count": null,
      "outputs": [
        {
          "output_type": "stream",
          "text": [
            "  csd borough school_code  ... schoolwide_pupil_teacher_ratio padded_csd     dbn\n",
            "0   1       M        M015  ...                            NaN         01  01M015\n",
            "1   1       M        M015  ...                            NaN         01  01M015\n",
            "2   1       M        M015  ...                            NaN         01  01M015\n",
            "3   1       M        M015  ...                            NaN         01  01M015\n",
            "4   1       M        M015  ...                            NaN         01  01M015\n",
            "\n",
            "[5 rows x 18 columns]\n"
          ],
          "name": "stdout"
        }
      ]
    },
    {
      "cell_type": "markdown",
      "metadata": {
        "id": "rhkSKgiMoixm",
        "colab_type": "text"
      },
      "source": [
        "## Initial manipulation\n",
        "\n",
        "Using DBN as the primary key we should be able to put all the data frames together. Before we do, let's take some time to calculate variables that will be useful in our analysis. We've already discussed one such variable -- a column that totals up the SAT scores for the different sections of the exam. This will make it much easier to correlate scores with demographic factors because we'll be working with a single number, rather than three different ones.\n",
        "\n",
        "\n",
        "\n"
      ]
    },
    {
      "cell_type": "code",
      "metadata": {
        "id": "ukvU8cdXrEqW",
        "colab_type": "code",
        "colab": {
          "base_uri": "https://localhost:8080/",
          "height": 86
        },
        "outputId": "eb8f2b1b-b3b1-454a-cdbc-4cf3c2648a30"
      },
      "source": [
        "data['sat_results'].columns"
      ],
      "execution_count": null,
      "outputs": [
        {
          "output_type": "execute_result",
          "data": {
            "text/plain": [
              "Index(['dbn', 'school_name', 'num_of_sat_test_takers',\n",
              "       'sat_critical_reading_avg_score', 'sat_math_avg_score',\n",
              "       'sat_writing_avg_score'],\n",
              "      dtype='object')"
            ]
          },
          "metadata": {
            "tags": []
          },
          "execution_count": 13
        }
      ]
    },
    {
      "cell_type": "code",
      "metadata": {
        "id": "PuB799_vq0qK",
        "colab_type": "code",
        "colab": {}
      },
      "source": [
        "sat_scr = ['sat_critical_reading_avg_score','sat_math_avg_score', 'sat_writing_avg_score']\n",
        "\n",
        "for c in sat_scr:\n",
        "    data['sat_results'][c] = pd.to_numeric(data[\"sat_results\"][c], errors=\"coerce\")\n",
        "\n",
        "data['sat_results']['sat_score']=0.0\n",
        "for c in sat_scr:\n",
        "    data['sat_results']['sat_score'] += data['sat_results'][c]"
      ],
      "execution_count": null,
      "outputs": []
    },
    {
      "cell_type": "markdown",
      "metadata": {
        "id": "01wzZtm0rdwC",
        "colab_type": "text"
      },
      "source": [
        "Next, we'll want to parse the latitude and longitude coordinates for each school. This will enable us to map the schools and uncover any geographic patterns in the data. The coordinates are currently in the text field Location 1 in the hs_directory data set.\n",
        "\n",
        "The column is a python dictionary that has home address and lat long stored as various key-value pairs "
      ]
    },
    {
      "cell_type": "markdown",
      "metadata": {
        "id": "JpR-pdRc3bni",
        "colab_type": "text"
      },
      "source": [
        ""
      ]
    },
    {
      "cell_type": "code",
      "metadata": {
        "id": "nmAYP7zKrlsL",
        "colab_type": "code",
        "colab": {
          "base_uri": "https://localhost:8080/",
          "height": 34
        },
        "outputId": "c30e90b7-c1f7-4b68-b2e4-7c862e9ee3f9"
      },
      "source": [
        "v=data['hs_directory']['location_1'][0]\n",
        "print(v['latitude'])\n"
      ],
      "execution_count": null,
      "outputs": [
        {
          "output_type": "stream",
          "text": [
            "40.589238098\n"
          ],
          "name": "stdout"
        }
      ]
    },
    {
      "cell_type": "code",
      "metadata": {
        "id": "fMVHsNilr3_u",
        "colab_type": "code",
        "colab": {}
      },
      "source": [
        "\n",
        "data['hs_directory']['lat'] = data['hs_directory']['location_1'].apply(lambda x: x.get('latitude'))\n",
        "data['hs_directory']['long'] = data['hs_directory']['location_1'].apply(lambda x: x.get('longitude'))\n",
        "data[\"hs_directory\"][\"lat\"] = pd.to_numeric(data[\"hs_directory\"][\"lat\"], errors=\"coerce\")\n",
        "data[\"hs_directory\"][\"long\"] = pd.to_numeric(data[\"hs_directory\"][\"long\"], errors=\"coerce\")"
      ],
      "execution_count": null,
      "outputs": []
    },
    {
      "cell_type": "markdown",
      "metadata": {
        "id": "a2iT2eEBBGkU",
        "colab_type": "text"
      },
      "source": [
        "## Cleaning Each Data File\n",
        "\n",
        "\n",
        "We are trying to investigate factors impacting SAT scores and related demographic variables\n",
        "\n",
        "The first data set that we'll condense is class_size. school has multiple values for GRADE, PROGRAM TYPE, CORE SUBJECT (MS CORE and 9-12 ONLY), and CORE COURSE (MS CORE and 9-12 ONLY)\n",
        "\n",
        "\n",
        "\n",
        "```\n",
        "# This is formatted as code\n",
        "```\n",
        "\n",
        "\n",
        "\n"
      ]
    },
    {
      "cell_type": "code",
      "metadata": {
        "id": "_cXOY9RO635q",
        "colab_type": "code",
        "colab": {
          "base_uri": "https://localhost:8080/",
          "height": 139
        },
        "outputId": "039352fe-a1a2-4869-8dd1-5b4af538de79"
      },
      "source": [
        "class_size = data['class_size']\n",
        "class_size.columns"
      ],
      "execution_count": null,
      "outputs": [
        {
          "output_type": "execute_result",
          "data": {
            "text/plain": [
              "Index(['csd', 'borough', 'school_code', 'school_name', 'grade_',\n",
              "       'program_type', 'core_subject_ms_core_and_9_12_only_',\n",
              "       'core_course_ms_core_and_9_12_only_', 'service_category_k_9_only_',\n",
              "       'number_of_students_seats_filled', 'number_of_sections',\n",
              "       'average_class_size', 'size_of_smallest_class', 'size_of_largest_class',\n",
              "       'data_source', 'schoolwide_pupil_teacher_ratio', 'padded_csd', 'dbn'],\n",
              "      dtype='object')"
            ]
          },
          "metadata": {
            "tags": []
          },
          "execution_count": 17
        }
      ]
    },
    {
      "cell_type": "code",
      "metadata": {
        "id": "fhF6DUWu7GKD",
        "colab_type": "code",
        "colab": {}
      },
      "source": [
        "class_size['grade_'].value_counts()\n",
        "# We only select '09-12' as we are looking at a High School education\n",
        "grd_flg= class_size['grade_'] == '09-12'\n",
        "class_size = class_size[grd_flg]"
      ],
      "execution_count": null,
      "outputs": []
    },
    {
      "cell_type": "code",
      "metadata": {
        "id": "pHVXlIfK7lTU",
        "colab_type": "code",
        "colab": {}
      },
      "source": [
        "class_size['program_type'].value_counts()\n",
        "# We select only programs type of 'Gen Ed'\n",
        "prg_flg = class_size['program_type']== 'GEN ED'\n",
        "class_size = class_size[prg_flg]"
      ],
      "execution_count": null,
      "outputs": []
    },
    {
      "cell_type": "markdown",
      "metadata": {
        "id": "tVWR6eAC8djK",
        "colab_type": "text"
      },
      "source": [
        "'core_course_ms_core_and_9_12_only_' and 'core_subject_ms_core_and_9_12_only_' lead to nonunique dbns.\n",
        "\n",
        "We want our class size data to include every single class a school offers -- not just a subset of them. What we can do is take the average across all of the classes a school offers.\n",
        "We need to aggregate the data at a dbn level\n",
        "\n"
      ]
    },
    {
      "cell_type": "code",
      "metadata": {
        "id": "3Rjjc2wz9Q8-",
        "colab_type": "code",
        "colab": {
          "base_uri": "https://localhost:8080/",
          "height": 156
        },
        "outputId": "08986a6d-1d5e-4566-efd7-801b4827c23a"
      },
      "source": [
        "import numpy as np\n",
        "num_fields= ['number_of_sections', 'number_of_students_seats_filled',\n",
        "             'average_class_size', 'schoolwide_pupil_teacher_ratio', \n",
        "             'size_of_largest_class', 'size_of_smallest_class']\n",
        "class_size[num_fields] = class_size[num_fields].apply(lambda x: pd.to_numeric(x, errors = 'coerce'))\n",
        "class_size = class_size.groupby('dbn').agg(np.mean)\n",
        "class_size.reset_index(inplace= True)\n",
        "data['class_size'] = class_size\n",
        "print(data['class_size'].head())"
      ],
      "execution_count": null,
      "outputs": [
        {
          "output_type": "stream",
          "text": [
            "      dbn  ...  schoolwide_pupil_teacher_ratio\n",
            "0  01M292  ...                             NaN\n",
            "1  01M332  ...                             NaN\n",
            "2  01M378  ...                             NaN\n",
            "3  01M448  ...                             NaN\n",
            "4  01M450  ...                             NaN\n",
            "\n",
            "[5 rows x 7 columns]\n"
          ],
          "name": "stdout"
        }
      ]
    },
    {
      "cell_type": "markdown",
      "metadata": {
        "id": "I4bgQyhUAOMN",
        "colab_type": "text"
      },
      "source": [
        "We will now look at demographics. Our objectve would be extract only the information for school year is 20112012\n"
      ]
    },
    {
      "cell_type": "code",
      "metadata": {
        "id": "cw2eCpaw8nl9",
        "colab_type": "code",
        "colab": {
          "base_uri": "https://localhost:8080/",
          "height": 52
        },
        "outputId": "fd380549-4dcd-485c-c1cc-3a4ffd961fee"
      },
      "source": [
        "demographics = data['demographics']\n",
        "print(demographics.shape)\n",
        "demographics.columns\n",
        "demographics['schoolyear'].value_counts()\n",
        "demographics = demographics[demographics['schoolyear']=='20112012']\n",
        "print(demographics.shape)\n",
        "data['demographics']= demographics"
      ],
      "execution_count": null,
      "outputs": [
        {
          "output_type": "stream",
          "text": [
            "(10075, 38)\n",
            "(1509, 38)\n"
          ],
          "name": "stdout"
        }
      ]
    },
    {
      "cell_type": "markdown",
      "metadata": {
        "id": "_VsqOTX1CHk_",
        "colab_type": "text"
      },
      "source": [
        "Finally, we'll need to condense the graduation data set. The Demographic and Cohort columns are what prevent dbn from being unique in the graduation data. A Cohort appears to refer to the year the data represents, and the Demographic appears to refer to a specific demographic group. In this case, we want to pick data from the most recent Cohort available, which is 2006. We also want data from the full cohort, so we'll only pick rows where Demographic is Total Cohort"
      ]
    },
    {
      "cell_type": "code",
      "metadata": {
        "id": "OxVHbpCBCcTo",
        "colab_type": "code",
        "colab": {}
      },
      "source": [
        "data[\"graduation\"] = data[\"graduation\"][data[\"graduation\"][\"cohort\"] == '2006']\n",
        "data[\"graduation\"] = data[\"graduation\"][data[\"graduation\"][\"demographic\"] == 'Total Cohort']\n",
        "#print(data[\"graduation\"].head())\n",
        "num_vars= [x for x in data[\"graduation\"].columns.tolist() if x.endswith('_n')]\n",
        "graduation = data['graduation']\n",
        "graduation[num_vars] = graduation[num_vars].apply(lambda x: pd.to_numeric(x, errors = 'coerce'))\n",
        "data['graduation']= graduation"
      ],
      "execution_count": null,
      "outputs": []
    },
    {
      "cell_type": "markdown",
      "metadata": {
        "id": "9kWqHBKsFkCb",
        "colab_type": "text"
      },
      "source": [
        "Convert the Advanced Placement (AP) test scores from strings to numeric values."
      ]
    },
    {
      "cell_type": "code",
      "metadata": {
        "id": "YJjmkDmhFjc9",
        "colab_type": "code",
        "colab": {}
      },
      "source": [
        "ap_2010 = data['ap_2010']\n",
        "ap_2010.columns\n",
        "num_vars= ['ap_test_takers_', 'number_of_exams_with_scores_3_4_or_5', 'total_exams_taken']\n",
        "ap_2010[num_vars] = ap_2010[num_vars].apply(lambda x: pd.to_numeric(x, errors = 'coerce'))\n",
        "data['ap_2010']= ap_2010"
      ],
      "execution_count": null,
      "outputs": []
    },
    {
      "cell_type": "markdown",
      "metadata": {
        "id": "gPUsi3iIG42F",
        "colab_type": "text"
      },
      "source": [
        "## Merging Data Files\n",
        "We'll be using the dbn column to identify matching rows across data sets. There may be dbn values that exist in one data set but not in another. This is partly because the data is from different years. Each data set also has inconsistencies in terms of how it was gathered.\n",
        "\n",
        "We'll merge two data sets at a time. For example, we'll merge sat_results and hs_directory, then merge the result with ap_2010, then merge the result of that with class_size. We'll continue combining data sets in this way until we've merged all of them. Afterwards, we'll have roughly the same number of rows, but each row will have columns from all of the data sets."
      ]
    },
    {
      "cell_type": "code",
      "metadata": {
        "id": "0yOIoSszG3zu",
        "colab_type": "code",
        "colab": {
          "base_uri": "https://localhost:8080/",
          "height": 52
        },
        "outputId": "0873c105-5d31-4528-d702-dce6e4df9830"
      },
      "source": [
        "combined = data[\"sat_results\"]\n",
        "print(combined.shape)\n",
        "combined = pd.merge(combined,data['ap_2010'], how= 'left', on= 'dbn')\n",
        "combined = pd.merge(combined,data['graduation'], how= 'left', on= 'dbn')\n",
        "print(combined.shape)"
      ],
      "execution_count": null,
      "outputs": [
        {
          "output_type": "stream",
          "text": [
            "(478, 7)\n",
            "(479, 33)\n"
          ],
          "name": "stdout"
        }
      ]
    },
    {
      "cell_type": "code",
      "metadata": {
        "id": "6xaaYsVTH6DL",
        "colab_type": "code",
        "colab": {
          "base_uri": "https://localhost:8080/",
          "height": 34
        },
        "outputId": "b6d54f2d-c671-4e03-d0fb-dd15269a6cc0"
      },
      "source": [
        "keys = ['class_size', 'demographics', 'survey', 'hs_directory']\n",
        "\n",
        "for k in keys:\n",
        "    combined = pd.merge(combined,data[k], how= 'inner', on= 'dbn')\n",
        "\n",
        "print(combined.shape)"
      ],
      "execution_count": null,
      "outputs": [
        {
          "output_type": "stream",
          "text": [
            "(363, 2160)\n"
          ],
          "name": "stdout"
        }
      ]
    },
    {
      "cell_type": "markdown",
      "metadata": {
        "id": "-1SMdYNGIWms",
        "colab_type": "text"
      },
      "source": [
        "The number of records has fallen from 478 to 363. This is because pandas couldn't find the dbn values that existed in sat_results in the other data sets. While this is worth investigating, we're currently looking for high-level correlations, so we don't need to dive into which dbns are missing"
      ]
    },
    {
      "cell_type": "markdown",
      "metadata": {
        "id": "MJZPV2eSIqSX",
        "colab_type": "text"
      },
      "source": [
        "Fill in any missing values in combined with the means of the respective columns"
      ]
    },
    {
      "cell_type": "code",
      "metadata": {
        "id": "z9-7vJAgIV4X",
        "colab_type": "code",
        "colab": {
          "base_uri": "https://localhost:8080/",
          "height": 156
        },
        "outputId": "11f75569-b9ea-4d47-bd04-62ee66f4ed2d"
      },
      "source": [
        "col_mean= combined.mean()\n",
        "cols= col_mean.index.values.tolist()\n",
        "\n",
        "combined = combined.fillna(combined.mean())\n",
        "combined = combined.fillna(0)\n",
        "\n",
        "print(combined.head(5))"
      ],
      "execution_count": null,
      "outputs": [
        {
          "output_type": "stream",
          "text": [
            "      dbn  ...       long\n",
            "0  01M292  ... -73.985260\n",
            "1  01M448  ... -73.984797\n",
            "2  01M450  ... -73.983041\n",
            "3  01M509  ... -73.985673\n",
            "4  01M539  ... -73.979426\n",
            "\n",
            "[5 rows x 2160 columns]\n"
          ],
          "name": "stdout"
        }
      ]
    },
    {
      "cell_type": "markdown",
      "metadata": {
        "id": "hi1rvt5pJjOK",
        "colab_type": "text"
      },
      "source": [
        "School Distrct extraction"
      ]
    },
    {
      "cell_type": "code",
      "metadata": {
        "id": "tSgiVZQ-GpMX",
        "colab_type": "code",
        "colab": {
          "base_uri": "https://localhost:8080/",
          "height": 121
        },
        "outputId": "f26c3156-adad-4d7c-b19c-815dbb236167"
      },
      "source": [
        "combined['school_dist'] = combined['DBN'].apply(lambda x: x[0:2])\n",
        "combined['school_dist'].head()"
      ],
      "execution_count": null,
      "outputs": [
        {
          "output_type": "execute_result",
          "data": {
            "text/plain": [
              "0    01\n",
              "1    01\n",
              "2    01\n",
              "3    01\n",
              "4    01\n",
              "Name: school_dist, dtype: object"
            ]
          },
          "metadata": {
            "tags": []
          },
          "execution_count": 27
        }
      ]
    },
    {
      "cell_type": "markdown",
      "metadata": {
        "id": "kqCCaUe1KC7L",
        "colab_type": "text"
      },
      "source": [
        "## Visual insights into the SAT performance\n",
        "Now that we have all the information in one place we want to visuaize the data and draw some correlations etc\n",
        "\n"
      ]
    },
    {
      "cell_type": "code",
      "metadata": {
        "id": "ouGIjv9aMW3Q",
        "colab_type": "code",
        "colab": {
          "base_uri": "https://localhost:8080/",
          "height": 72
        },
        "outputId": "c51881e1-b5ee-4696-9345-0c8f77ed6abb"
      },
      "source": [
        "print(combined.shape)\n",
        "print(combined.dtypes[combined.dtypes== 'float64'].index.to_list())"
      ],
      "execution_count": null,
      "outputs": [
        {
          "output_type": "stream",
          "text": [
            "(363, 2161)\n",
            "['sat_critical_reading_avg_score', 'sat_math_avg_score', 'sat_writing_avg_score', 'sat_score', 'ap_test_takers_', 'total_exams_taken', 'number_of_exams_with_scores_3_4_or_5', 'total_grads_n', 'total_regents_n', 'advanced_regents_n', 'regents_w_o_advanced_n', 'local_n', 'still_enrolled_n', 'dropped_out_n', 'number_of_students_seats_filled', 'number_of_sections', 'average_class_size', 'size_of_smallest_class', 'size_of_largest_class', 'schoolwide_pupil_teacher_ratio', 'fl_percent', 'N_p', 'N_s', 'N_t', 'aca_p_10', 'aca_p_11', 'aca_s_10', 'aca_s_11', 'aca_t_10', 'aca_t_11', 'aca_tot_10', 'aca_tot_11', 'borough', 'com_p_10', 'com_p_11', 'com_s_10', 'com_s_11', 'com_t_10', 'com_t_11', 'com_tot_10', 'com_tot_11', 'd75', 'eng_p_10', 'eng_p_11', 'eng_s_10', 'eng_s_11', 'eng_t_10', 'eng_t_11', 'eng_tot_10', 'eng_tot_11', 'enrollment', 'highschool', 'location', 'n_p', 'n_s', 'n_t', 'p_N_q10a', 'p_N_q10b', 'p_N_q10c', 'p_N_q10d', 'p_N_q10e', 'p_N_q10f', 'p_N_q10g', 'p_N_q10h', 'p_N_q10i', 'p_N_q10j', 'p_N_q10k', 'p_N_q10l', 'p_N_q11a_1', 'p_N_q11a_2', 'p_N_q11a_3', 'p_N_q11a_4', 'p_N_q11b_1', 'p_N_q11b_2', 'p_N_q11b_3', 'p_N_q11b_4', 'p_N_q11c_1', 'p_N_q11c_2', 'p_N_q11c_3', 'p_N_q11c_4', 'p_N_q11d_1', 'p_N_q11d_2', 'p_N_q11d_3', 'p_N_q11d_4', 'p_N_q11e_1', 'p_N_q11e_2', 'p_N_q11e_3', 'p_N_q11e_4', 'p_N_q11f_1', 'p_N_q11f_2', 'p_N_q11f_3', 'p_N_q11f_4', 'p_N_q12aa_1', 'p_N_q12aa_2', 'p_N_q12aa_3', 'p_N_q12aa_4', 'p_N_q12aa_5', 'p_N_q12ab_1', 'p_N_q12ab_2', 'p_N_q12ab_3', 'p_N_q12ab_4', 'p_N_q12ab_5', 'p_N_q12ac_1', 'p_N_q12ac_2', 'p_N_q12ac_3', 'p_N_q12ac_4', 'p_N_q12ac_5', 'p_N_q12ad_1', 'p_N_q12ad_2', 'p_N_q12ad_3', 'p_N_q12ad_4', 'p_N_q12ad_5', 'p_N_q12ba_1', 'p_N_q12ba_2', 'p_N_q12ba_3', 'p_N_q12ba_4', 'p_N_q12ba_5', 'p_N_q12bb_1', 'p_N_q12bb_2', 'p_N_q12bb_3', 'p_N_q12bb_4', 'p_N_q12bb_5', 'p_N_q12bc_1', 'p_N_q12bc_2', 'p_N_q12bc_3', 'p_N_q12bc_4', 'p_N_q12bc_5', 'p_N_q12bd_1', 'p_N_q12bd_2', 'p_N_q12bd_3', 'p_N_q12bd_4', 'p_N_q12bd_5', 'p_N_q1_1', 'p_N_q1_10', 'p_N_q1_11', 'p_N_q1_12', 'p_N_q1_13', 'p_N_q1_14', 'p_N_q1_2', 'p_N_q1_3', 'p_N_q1_4', 'p_N_q1_5', 'p_N_q1_6', 'p_N_q1_7', 'p_N_q1_8', 'p_N_q1_9', 'p_N_q2a_1', 'p_N_q2a_2', 'p_N_q2a_3', 'p_N_q2a_4', 'p_N_q2a_5', 'p_N_q2b_1', 'p_N_q2b_2', 'p_N_q2b_3', 'p_N_q2b_4', 'p_N_q2b_5', 'p_N_q2c_1', 'p_N_q2c_2', 'p_N_q2c_3', 'p_N_q2c_4', 'p_N_q2c_5', 'p_N_q2d_1', 'p_N_q2d_2', 'p_N_q2d_3', 'p_N_q2d_4', 'p_N_q2d_5', 'p_N_q2e_1', 'p_N_q2e_2', 'p_N_q2e_3', 'p_N_q2e_4', 'p_N_q2e_5', 'p_N_q2f_1', 'p_N_q2f_2', 'p_N_q2f_3', 'p_N_q2f_4', 'p_N_q2f_5', 'p_N_q2g_1', 'p_N_q2g_2', 'p_N_q2g_3', 'p_N_q2g_4', 'p_N_q2g_5', 'p_N_q2h_1', 'p_N_q2h_2', 'p_N_q2h_3', 'p_N_q2h_4', 'p_N_q2h_5', 'p_N_q3a_1', 'p_N_q3a_2', 'p_N_q3a_3', 'p_N_q3a_4', 'p_N_q3a_5', 'p_N_q3b_1', 'p_N_q3b_2', 'p_N_q3b_3', 'p_N_q3b_4', 'p_N_q3b_5', 'p_N_q3c_1', 'p_N_q3c_2', 'p_N_q3c_3', 'p_N_q3c_4', 'p_N_q3c_5', 'p_N_q3d_1', 'p_N_q3d_2', 'p_N_q3d_3', 'p_N_q3d_4', 'p_N_q3d_5', 'p_N_q4a_1', 'p_N_q4a_2', 'p_N_q4a_3', 'p_N_q4a_4', 'p_N_q4a_5', 'p_N_q4b_1', 'p_N_q4b_2', 'p_N_q4b_3', 'p_N_q4b_4', 'p_N_q4b_5', 'p_N_q4c_1', 'p_N_q4c_2', 'p_N_q4c_3', 'p_N_q4c_4', 'p_N_q4c_5', 'p_N_q4d_1', 'p_N_q4d_2', 'p_N_q4d_3', 'p_N_q4d_4', 'p_N_q4d_5', 'p_N_q4e_1', 'p_N_q4e_2', 'p_N_q4e_3', 'p_N_q4e_4', 'p_N_q4e_5', 'p_N_q5a', 'p_N_q5b', 'p_N_q5c', 'p_N_q5d', 'p_N_q5e', 'p_N_q5f', 'p_N_q5g', 'p_N_q5h', 'p_N_q5i', 'p_N_q5j', 'p_N_q6a_1', 'p_N_q6a_2', 'p_N_q6a_3', 'p_N_q6a_4', 'p_N_q6a_5', 'p_N_q6b_1', 'p_N_q6b_2', 'p_N_q6b_3', 'p_N_q6b_4', 'p_N_q6b_5', 'p_N_q7a_1', 'p_N_q7a_2', 'p_N_q7a_3', 'p_N_q7a_4', 'p_N_q7a_5', 'p_N_q7b_1', 'p_N_q7b_2', 'p_N_q7b_3', 'p_N_q7b_4', 'p_N_q7b_5', 'p_N_q7c_1', 'p_N_q7c_2', 'p_N_q7c_3', 'p_N_q7c_4', 'p_N_q7c_5', 'p_N_q7d_1', 'p_N_q7d_2', 'p_N_q7d_3', 'p_N_q7d_4', 'p_N_q7d_5', 'p_N_q8a_1', 'p_N_q8a_2', 'p_N_q8a_3', 'p_N_q8a_4', 'p_N_q8a_5', 'p_N_q8b_1', 'p_N_q8b_2', 'p_N_q8b_3', 'p_N_q8b_4', 'p_N_q8b_5', 'p_N_q8c_1', 'p_N_q8c_2', 'p_N_q8c_3', 'p_N_q8c_4', 'p_N_q8c_5', 'p_N_q8d_1', 'p_N_q8d_2', 'p_N_q8d_3', 'p_N_q8d_4', 'p_N_q8d_5', 'p_N_q8e_1', 'p_N_q8e_2', 'p_N_q8e_3', 'p_N_q8e_4', 'p_N_q8e_5', 'p_N_q8f_1', 'p_N_q8f_2', 'p_N_q8f_3', 'p_N_q8f_4', 'p_N_q8f_5', 'p_N_q9_1', 'p_N_q9_10', 'p_N_q9_2', 'p_N_q9_3', 'p_N_q9_4', 'p_N_q9_5', 'p_N_q9_6', 'p_N_q9_7', 'p_N_q9_8', 'p_N_q9_9', 'p_q1', 'p_q10', 'p_q10a', 'p_q10b', 'p_q10c', 'p_q10d', 'p_q10e', 'p_q10f', 'p_q10g', 'p_q10h', 'p_q10i', 'p_q10j', 'p_q10k', 'p_q10l', 'p_q11a', 'p_q11a_1', 'p_q11a_2', 'p_q11a_3', 'p_q11a_4', 'p_q11b', 'p_q11b_1', 'p_q11b_2', 'p_q11b_3', 'p_q11b_4', 'p_q11c', 'p_q11c_1', 'p_q11c_2', 'p_q11c_3', 'p_q11c_4', 'p_q11d', 'p_q11d_1', 'p_q11d_2', 'p_q11d_3', 'p_q11d_4', 'p_q11e', 'p_q11e_1', 'p_q11e_2', 'p_q11e_3', 'p_q11e_4', 'p_q11f', 'p_q11f_1', 'p_q11f_2', 'p_q11f_3', 'p_q11f_4', 'p_q12a', 'p_q12aa', 'p_q12aa_1', 'p_q12aa_2', 'p_q12aa_3', 'p_q12aa_4', 'p_q12aa_5', 'p_q12ab', 'p_q12ab_1', 'p_q12ab_2', 'p_q12ab_3', 'p_q12ab_4', 'p_q12ab_5', 'p_q12ac', 'p_q12ac_1', 'p_q12ac_2', 'p_q12ac_3', 'p_q12ac_4', 'p_q12ac_5', 'p_q12ad', 'p_q12ad_1', 'p_q12ad_2', 'p_q12ad_3', 'p_q12ad_4', 'p_q12ad_5', 'p_q12b', 'p_q12ba', 'p_q12ba_1', 'p_q12ba_2', 'p_q12ba_3', 'p_q12ba_4', 'p_q12ba_5', 'p_q12bb', 'p_q12bb_1', 'p_q12bb_2', 'p_q12bb_3', 'p_q12bb_4', 'p_q12bb_5', 'p_q12bc', 'p_q12bc_1', 'p_q12bc_2', 'p_q12bc_3', 'p_q12bc_4', 'p_q12bc_5', 'p_q12bd', 'p_q12bd_1', 'p_q12bd_2', 'p_q12bd_3', 'p_q12bd_4', 'p_q12bd_5', 'p_q12c', 'p_q12d', 'p_q12e', 'p_q12f', 'p_q13a', 'p_q13b', 'p_q13c', 'p_q13d', 'p_q14a', 'p_q14b', 'p_q14c', 'p_q14d', 'p_q1_1', 'p_q1_10', 'p_q1_11', 'p_q1_12', 'p_q1_13', 'p_q1_14', 'p_q1_2', 'p_q1_3', 'p_q1_4', 'p_q1_5', 'p_q1_6', 'p_q1_7', 'p_q1_8', 'p_q1_9', 'p_q1a', 'p_q1a_1', 'p_q1a_2', 'p_q1a_3', 'p_q1a_4', 'p_q1a_5', 'p_q1b', 'p_q1b_1', 'p_q1b_2', 'p_q1b_3', 'p_q1b_4', 'p_q1b_5', 'p_q1c', 'p_q1c_1', 'p_q1c_2', 'p_q1c_3', 'p_q1c_4', 'p_q1c_5', 'p_q1d', 'p_q1d_1', 'p_q1d_2', 'p_q1d_3', 'p_q1e', 'p_q1f', 'p_q1g', 'p_q2a', 'p_q2a_1', 'p_q2a_2', 'p_q2a_3', 'p_q2a_4', 'p_q2a_5', 'p_q2b', 'p_q2b_1', 'p_q2b_2', 'p_q2b_3', 'p_q2b_4', 'p_q2b_5', 'p_q2c', 'p_q2c_1', 'p_q2c_2', 'p_q2c_3', 'p_q2c_4', 'p_q2c_5', 'p_q2d', 'p_q2d_1', 'p_q2d_2', 'p_q2d_3', 'p_q2d_4', 'p_q2d_5', 'p_q2e', 'p_q2e_1', 'p_q2e_2', 'p_q2e_3', 'p_q2e_4', 'p_q2e_5', 'p_q2f', 'p_q2f_1', 'p_q2f_2', 'p_q2f_3', 'p_q2f_4', 'p_q2f_5', 'p_q2g', 'p_q2g_1', 'p_q2g_2', 'p_q2g_3', 'p_q2g_4', 'p_q2g_5', 'p_q2h', 'p_q2h_1', 'p_q2h_2', 'p_q2h_3', 'p_q2h_4', 'p_q2h_5', 'p_q3a', 'p_q3a_1', 'p_q3a_2', 'p_q3a_3', 'p_q3a_4', 'p_q3a_5', 'p_q3b', 'p_q3b_1', 'p_q3b_2', 'p_q3b_3', 'p_q3b_4', 'p_q3b_5', 'p_q3c', 'p_q3c_1', 'p_q3c_2', 'p_q3c_3', 'p_q3c_4', 'p_q3c_5', 'p_q3d', 'p_q3d_1', 'p_q3d_2', 'p_q3d_3', 'p_q3d_4', 'p_q3d_5', 'p_q3e', 'p_q4a', 'p_q4a_1', 'p_q4a_2', 'p_q4a_3', 'p_q4a_4', 'p_q4a_5', 'p_q4b', 'p_q4b_1', 'p_q4b_2', 'p_q4b_3', 'p_q4b_4', 'p_q4b_5', 'p_q4c', 'p_q4c_1', 'p_q4c_2', 'p_q4c_3', 'p_q4c_4', 'p_q4c_5', 'p_q4d', 'p_q4d_1', 'p_q4d_2', 'p_q4d_3', 'p_q4d_4', 'p_q4d_5', 'p_q4e', 'p_q4e_1', 'p_q4e_2', 'p_q4e_3', 'p_q4e_4', 'p_q4e_5', 'p_q5', 'p_q5a', 'p_q5b', 'p_q5c', 'p_q5d', 'p_q5e', 'p_q5f', 'p_q5g', 'p_q5h', 'p_q5i', 'p_q5j', 'p_q6a', 'p_q6a_1', 'p_q6a_2', 'p_q6a_3', 'p_q6a_4', 'p_q6a_5', 'p_q6b', 'p_q6b_1', 'p_q6b_2', 'p_q6b_3', 'p_q6b_4', 'p_q6b_5', 'p_q6c', 'p_q6d', 'p_q6e', 'p_q6f', 'p_q6g', 'p_q6h', 'p_q7', 'p_q7a', 'p_q7a_1', 'p_q7a_2', 'p_q7a_3', 'p_q7a_4', 'p_q7a_5', 'p_q7b', 'p_q7b_1', 'p_q7b_2', 'p_q7b_3', 'p_q7b_4', 'p_q7b_5', 'p_q7c', 'p_q7c_1', 'p_q7c_2', 'p_q7c_3', 'p_q7c_4', 'p_q7c_5', 'p_q7d', 'p_q7d_1', 'p_q7d_2', 'p_q7d_3', 'p_q7d_4', 'p_q7d_5', 'p_q8a', 'p_q8a_1', 'p_q8a_2', 'p_q8a_3', 'p_q8a_4', 'p_q8a_5', 'p_q8b', 'p_q8b_1', 'p_q8b_2', 'p_q8b_3', 'p_q8b_4', 'p_q8b_5', 'p_q8c', 'p_q8c_1', 'p_q8c_2', 'p_q8c_3', 'p_q8c_4', 'p_q8c_5', 'p_q8d', 'p_q8d_1', 'p_q8d_2', 'p_q8d_3', 'p_q8d_4', 'p_q8d_5', 'p_q8e', 'p_q8e_1', 'p_q8e_2', 'p_q8e_3', 'p_q8e_4', 'p_q8e_5', 'p_q8f', 'p_q8f_1', 'p_q8f_2', 'p_q8f_3', 'p_q8f_4', 'p_q8f_5', 'p_q9', 'p_q9_1', 'p_q9_10', 'p_q9_2', 'p_q9_3', 'p_q9_4', 'p_q9_5', 'p_q9_6', 'p_q9_7', 'p_q9_8', 'p_q9_9', 'principal', 'rr_s', 's_N_q10a_1', 's_N_q10a_2', 's_N_q10a_3', 's_N_q10b_1', 's_N_q10b_2', 's_N_q10b_3', 's_N_q10c_1', 's_N_q10c_2', 's_N_q10c_3', 's_N_q10d_1', 's_N_q10d_2', 's_N_q10d_3', 's_N_q10e_1', 's_N_q10e_2', 's_N_q10e_3', 's_N_q10f_1', 's_N_q10f_2', 's_N_q10f_3', 's_N_q10g_1', 's_N_q10g_2', 's_N_q10g_3', 's_N_q10h_1', 's_N_q10h_2', 's_N_q10h_3', 's_N_q11_1', 's_N_q11_2', 's_N_q11_3', 's_N_q11_4', 's_N_q12a_1', 's_N_q12a_2', 's_N_q12a_3', 's_N_q12a_4', 's_N_q12b_1', 's_N_q12b_2', 's_N_q12b_3', 's_N_q12b_4', 's_N_q12c_1', 's_N_q12c_2', 's_N_q12c_3', 's_N_q12c_4', 's_N_q13a_1', 's_N_q13a_2', 's_N_q13a_3', 's_N_q13a_4', 's_N_q13b_1', 's_N_q13b_2', 's_N_q13b_3', 's_N_q13b_4', 's_N_q13c_1', 's_N_q13c_2', 's_N_q13c_3', 's_N_q13c_4', 's_N_q13d_1', 's_N_q13d_2', 's_N_q13d_3', 's_N_q13d_4', 's_N_q13e_1', 's_N_q13e_2', 's_N_q13e_3', 's_N_q13e_4', 's_N_q13f_1', 's_N_q13f_2', 's_N_q13f_3', 's_N_q13f_4', 's_N_q13g_1', 's_N_q13g_2', 's_N_q13g_3', 's_N_q13g_4', 's_N_q14a_1', 's_N_q14a_2', 's_N_q14a_3', 's_N_q14a_4', 's_N_q14b_1', 's_N_q14b_2', 's_N_q14b_3', 's_N_q14b_4', 's_N_q14c_1', 's_N_q14c_2', 's_N_q14c_3', 's_N_q14c_4', 's_N_q14d_1', 's_N_q14d_2', 's_N_q14d_3', 's_N_q14d_4', 's_N_q14e_1', 's_N_q14e_2', 's_N_q14e_3', 's_N_q14e_4', 's_N_q14f_1', 's_N_q14f_2', 's_N_q14f_3', 's_N_q14f_4', 's_N_q14g_1', 's_N_q14g_2', 's_N_q14g_3', 's_N_q14g_4', 's_N_q1_1', 's_N_q1_2', 's_N_q1_3', 's_N_q1_4', 's_N_q1_5', 's_N_q1_6', 's_N_q1_7', 's_N_q2a_1', 's_N_q2a_2', 's_N_q2a_3', 's_N_q2a_4', 's_N_q2b_1', 's_N_q2b_2', 's_N_q2b_3', 's_N_q2b_4', 's_N_q2c_1', 's_N_q2c_2', 's_N_q2c_3', 's_N_q2c_4', 's_N_q3a_1', 's_N_q3a_2', 's_N_q3a_3', 's_N_q3a_4', 's_N_q3b_1', 's_N_q3b_2', 's_N_q3b_3', 's_N_q3b_4', 's_N_q3c_1', 's_N_q3c_2', 's_N_q3c_3', 's_N_q3c_4', 's_N_q3d_1', 's_N_q3d_2', 's_N_q3d_3', 's_N_q3d_4', 's_N_q3e_1', 's_N_q3e_2', 's_N_q3e_3', 's_N_q3e_4', 's_N_q3f_1', 's_N_q3f_2', 's_N_q3f_3', 's_N_q3f_4', 's_N_q3g_1', 's_N_q3g_2', 's_N_q3g_3', 's_N_q3g_4', 's_N_q3h_1', 's_N_q3h_2', 's_N_q3h_3', 's_N_q3h_4', 's_N_q3i_1', 's_N_q3i_2', 's_N_q3i_3', 's_N_q3i_4', 's_N_q4a_1', 's_N_q4a_2', 's_N_q4a_3', 's_N_q4a_4', 's_N_q4b_1', 's_N_q4b_2', 's_N_q4b_3', 's_N_q4b_4', 's_N_q5a_1', 's_N_q5a_2', 's_N_q5a_3', 's_N_q5a_4', 's_N_q5b_1', 's_N_q5b_2', 's_N_q5b_3', 's_N_q5b_4', 's_N_q6a_1', 's_N_q6a_2', 's_N_q6a_3', 's_N_q6a_4', 's_N_q6a_5', 's_N_q6b_1', 's_N_q6b_2', 's_N_q6b_3', 's_N_q6b_4', 's_N_q6b_5', 's_N_q6c_1', 's_N_q6c_2', 's_N_q6c_3', 's_N_q6c_4', 's_N_q6c_5', 's_N_q6d_1', 's_N_q6d_2', 's_N_q6d_3', 's_N_q6d_4', 's_N_q6d_5', 's_N_q6e_1', 's_N_q6e_2', 's_N_q6e_3', 's_N_q6e_4', 's_N_q6e_5', 's_N_q6f_1', 's_N_q6f_2', 's_N_q6f_3', 's_N_q6f_4', 's_N_q6f_5', 's_N_q6g_1', 's_N_q6g_2', 's_N_q6g_3', 's_N_q6g_4', 's_N_q6g_5', 's_N_q6h_1', 's_N_q6h_2', 's_N_q6h_3', 's_N_q6h_4', 's_N_q6h_5', 's_N_q7a_1', 's_N_q7a_2', 's_N_q7a_3', 's_N_q7a_4', 's_N_q7b_1', 's_N_q7b_2', 's_N_q7b_3', 's_N_q7b_4', 's_N_q8a_1', 's_N_q8a_2', 's_N_q8a_3', 's_N_q8a_4', 's_N_q8a_5', 's_N_q8b_1', 's_N_q8b_2', 's_N_q8b_3', 's_N_q8b_4', 's_N_q8b_5', 's_N_q8c_1', 's_N_q8c_2', 's_N_q8c_3', 's_N_q8c_4', 's_N_q8c_5', 's_N_q8d_1', 's_N_q8d_2', 's_N_q8d_3', 's_N_q8d_4', 's_N_q8d_5', 's_N_q9a_1', 's_N_q9a_2', 's_N_q9a_3', 's_N_q9b_1', 's_N_q9b_2', 's_N_q9b_3', 's_N_q9c_1', 's_N_q9c_2', 's_N_q9c_3', 's_N_q9d_1', 's_N_q9d_2', 's_N_q9d_3', 's_N_q9e_1', 's_N_q9e_2', 's_N_q9e_3', 's_N_q9f_1', 's_N_q9f_2', 's_N_q9f_3', 's_N_q9g_1', 's_N_q9g_2', 's_N_q9g_3', 's_N_q9h_1', 's_N_q9h_2', 's_N_q9h_3', 's_q1', 's_q10', 's_q10a_1', 's_q10a_2', 's_q10a_3', 's_q10b_1', 's_q10b_2', 's_q10b_3', 's_q10c_1', 's_q10c_2', 's_q10c_3', 's_q10d_1', 's_q10d_2', 's_q10d_3', 's_q10e_1', 's_q10e_2', 's_q10e_3', 's_q10f_1', 's_q10f_2', 's_q10f_3', 's_q10g_1', 's_q10g_2', 's_q10g_3', 's_q10h_1', 's_q10h_2', 's_q10h_3', 's_q11', 's_q11_1', 's_q11_2', 's_q11_3', 's_q11_4', 's_q12a', 's_q12a_1', 's_q12a_2', 's_q12a_3', 's_q12a_4', 's_q12b', 's_q12b_1', 's_q12b_2', 's_q12b_3', 's_q12b_4', 's_q12c', 's_q12c_1', 's_q12c_2', 's_q12c_3', 's_q12c_4', 's_q13a', 's_q13a_1', 's_q13a_2', 's_q13a_3', 's_q13a_4', 's_q13b', 's_q13b_1', 's_q13b_2', 's_q13b_3', 's_q13b_4', 's_q13c', 's_q13c_1', 's_q13c_2', 's_q13c_3', 's_q13c_4', 's_q13d', 's_q13d_1', 's_q13d_2', 's_q13d_3', 's_q13d_4', 's_q13e', 's_q13e_1', 's_q13e_2', 's_q13e_3', 's_q13e_4', 's_q13f', 's_q13f_1', 's_q13f_2', 's_q13f_3', 's_q13f_4', 's_q13g', 's_q13g_1', 's_q13g_2', 's_q13g_3', 's_q13g_4', 's_q14a', 's_q14a_1', 's_q14a_2', 's_q14a_3', 's_q14a_4', 's_q14b', 's_q14b_1', 's_q14b_2', 's_q14b_3', 's_q14b_4', 's_q14c', 's_q14c_1', 's_q14c_2', 's_q14c_3', 's_q14c_4', 's_q14d', 's_q14d_1', 's_q14d_2', 's_q14d_3', 's_q14d_4', 's_q14e', 's_q14e_1', 's_q14e_2', 's_q14e_3', 's_q14e_4', 's_q14f', 's_q14f_1', 's_q14f_2', 's_q14f_3', 's_q14f_4', 's_q14g', 's_q14g_1', 's_q14g_2', 's_q14g_3', 's_q14g_4', 's_q1_1', 's_q1_2', 's_q1_3', 's_q1_4', 's_q1_5', 's_q1_6', 's_q1_7', 's_q2a', 's_q2a_1', 's_q2a_2', 's_q2a_3', 's_q2a_4', 's_q2b', 's_q2b_1', 's_q2b_2', 's_q2b_3', 's_q2b_4', 's_q2c', 's_q2c_1', 's_q2c_2', 's_q2c_3', 's_q2c_4', 's_q3a', 's_q3a_1', 's_q3a_2', 's_q3a_3', 's_q3a_4', 's_q3b', 's_q3b_1', 's_q3b_2', 's_q3b_3', 's_q3b_4', 's_q3c', 's_q3c_1', 's_q3c_2', 's_q3c_3', 's_q3c_4', 's_q3d', 's_q3d_1', 's_q3d_2', 's_q3d_3', 's_q3d_4', 's_q3e', 's_q3e_1', 's_q3e_2', 's_q3e_3', 's_q3e_4', 's_q3f', 's_q3f_1', 's_q3f_2', 's_q3f_3', 's_q3f_4', 's_q3g', 's_q3g_1', 's_q3g_2', 's_q3g_3', 's_q3g_4', 's_q3h', 's_q3h_1', 's_q3h_2', 's_q3h_3', 's_q3h_4', 's_q3i', 's_q3i_1', 's_q3i_2', 's_q3i_3', 's_q3i_4', 's_q4a', 's_q4a_1', 's_q4a_2', 's_q4a_3', 's_q4a_4', 's_q4b', 's_q4b_1', 's_q4b_2', 's_q4b_3', 's_q4b_4', 's_q5a', 's_q5a_1', 's_q5a_2', 's_q5a_3', 's_q5a_4', 's_q5b', 's_q5b_1', 's_q5b_2', 's_q5b_3', 's_q5b_4', 's_q6a', 's_q6a_1', 's_q6a_2', 's_q6a_3', 's_q6a_4', 's_q6a_5', 's_q6b', 's_q6b_1', 's_q6b_2', 's_q6b_3', 's_q6b_4', 's_q6b_5', 's_q6c', 's_q6c_1', 's_q6c_2', 's_q6c_3', 's_q6c_4', 's_q6c_5', 's_q6d', 's_q6d_1', 's_q6d_2', 's_q6d_3', 's_q6d_4', 's_q6d_5', 's_q6e', 's_q6e_1', 's_q6e_2', 's_q6e_3', 's_q6e_4', 's_q6e_5', 's_q6f', 's_q6f_1', 's_q6f_2', 's_q6f_3', 's_q6f_4', 's_q6f_5', 's_q6g', 's_q6g_1', 's_q6g_2', 's_q6g_3', 's_q6g_4', 's_q6g_5', 's_q6h', 's_q6h_1', 's_q6h_2', 's_q6h_3', 's_q6h_4', 's_q6h_5', 's_q7a', 's_q7a_1', 's_q7a_2', 's_q7a_3', 's_q7a_4', 's_q7b', 's_q7b_1', 's_q7b_2', 's_q7b_3', 's_q7b_4', 's_q8a', 's_q8a_1', 's_q8a_2', 's_q8a_3', 's_q8a_4', 's_q8a_5', 's_q8b', 's_q8b_1', 's_q8b_2', 's_q8b_3', 's_q8b_4', 's_q8b_5', 's_q8c', 's_q8c_1', 's_q8c_2', 's_q8c_3', 's_q8c_4', 's_q8c_5', 's_q8d', 's_q8d_1', 's_q8d_2', 's_q8d_3', 's_q8d_4', 's_q8d_5', 's_q9', 's_q9a_1', 's_q9a_2', 's_q9a_3', 's_q9b_1', 's_q9b_2', 's_q9b_3', 's_q9c_1', 's_q9c_2', 's_q9c_3', 's_q9d_1', 's_q9d_2', 's_q9d_3', 's_q9e_1', 's_q9e_2', 's_q9e_3', 's_q9f_1', 's_q9f_2', 's_q9f_3', 's_q9g_1', 's_q9g_2', 's_q9g_3', 's_q9h_1', 's_q9h_2', 's_q9h_3', 'saf_p_10', 'saf_p_11', 'saf_s_10', 'saf_s_11', 'saf_t_10', 'saf_t_11', 'saf_tot_10', 'saf_tot_11', 'sch_type', 'studentsurvey', 't_N_q10a_1', 't_N_q10a_2', 't_N_q10a_3', 't_N_q10a_4', 't_N_q10a_5', 't_N_q10a_6', 't_N_q10b_1', 't_N_q10b_2', 't_N_q10b_3', 't_N_q10b_4', 't_N_q10b_5', 't_N_q10b_6', 't_N_q10c_1', 't_N_q10c_2', 't_N_q10c_3', 't_N_q10c_4', 't_N_q10c_5', 't_N_q10c_6', 't_N_q10d_1', 't_N_q10d_2', 't_N_q10d_3', 't_N_q10d_4', 't_N_q10d_5', 't_N_q10d_6', 't_N_q10e_1', 't_N_q10e_2', 't_N_q10e_3', 't_N_q10e_4', 't_N_q10e_5', 't_N_q10e_6', 't_N_q11a_1', 't_N_q11a_2', 't_N_q11a_3', 't_N_q11a_4', 't_N_q11b_1', 't_N_q11b_2', 't_N_q11b_3', 't_N_q11b_4', 't_N_q11c_1', 't_N_q11c_2', 't_N_q11c_3', 't_N_q11c_4', 't_N_q11d_1', 't_N_q11d_2', 't_N_q11d_3', 't_N_q11d_4', 't_N_q11e_1', 't_N_q11e_2', 't_N_q11e_3', 't_N_q11e_4', 't_N_q11f_1', 't_N_q11f_2', 't_N_q11f_3', 't_N_q11f_4', 't_N_q11g_1', 't_N_q11g_2', 't_N_q11g_3', 't_N_q11g_4', 't_N_q11h_1', 't_N_q11h_2', 't_N_q11h_3', 't_N_q11h_4', 't_N_q11i_1', 't_N_q11i_2', 't_N_q11i_3', 't_N_q11i_4', 't_N_q11j_1', 't_N_q11j_2', 't_N_q11j_3', 't_N_q11j_4', 't_N_q11k_1', 't_N_q11k_2', 't_N_q11k_3', 't_N_q11k_4', 't_N_q11l_1', 't_N_q11l_2', 't_N_q11l_3', 't_N_q11l_4', 't_N_q11m_1', 't_N_q11m_2', 't_N_q11m_3', 't_N_q11m_4', 't_N_q11n_1', 't_N_q11n_2', 't_N_q11n_3', 't_N_q11n_4', 't_N_q11o_1', 't_N_q11o_2', 't_N_q11o_3', 't_N_q11o_4', 't_N_q12a_1', 't_N_q12a_2', 't_N_q12a_3', 't_N_q12a_4', 't_N_q12a_5', 't_N_q12b_1', 't_N_q12b_2', 't_N_q12b_3', 't_N_q12b_4', 't_N_q12b_5', 't_N_q12c_1', 't_N_q12c_2', 't_N_q12c_3', 't_N_q12c_4', 't_N_q12c_5', 't_N_q12d_1', 't_N_q12d_2', 't_N_q12d_3', 't_N_q12d_4', 't_N_q12d_5', 't_N_q13a_1', 't_N_q13a_2', 't_N_q13a_3', 't_N_q13a_4', 't_N_q13a_5', 't_N_q13b_1', 't_N_q13b_2', 't_N_q13b_3', 't_N_q13b_4', 't_N_q13b_5', 't_N_q13c_1', 't_N_q13c_2', 't_N_q13c_3', 't_N_q13c_4', 't_N_q13c_5', 't_N_q13d_1', 't_N_q13d_2', 't_N_q13d_3', 't_N_q13d_4', 't_N_q13d_5', 't_N_q14_1', 't_N_q14_2', 't_N_q14_3', 't_N_q14_4', 't_N_q14_5', 't_N_q15a_1', 't_N_q15a_2', 't_N_q15a_3', 't_N_q15a_4', 't_N_q15b_1', 't_N_q15b_2', 't_N_q15b_3', 't_N_q15b_4', 't_N_q15c_1', 't_N_q15c_2', 't_N_q15c_3', 't_N_q15c_4', 't_N_q15d_1', 't_N_q15d_2', 't_N_q15d_3', 't_N_q15d_4', 't_N_q15e_1', 't_N_q15e_2', 't_N_q15e_3', 't_N_q15e_4', 't_N_q15f_1', 't_N_q15f_2', 't_N_q15f_3', 't_N_q15f_4', 't_N_q1a_1', 't_N_q1a_2', 't_N_q1a_3', 't_N_q1a_4', 't_N_q1b_1', 't_N_q1b_2', 't_N_q1b_3', 't_N_q1b_4', 't_N_q1c_1', 't_N_q1c_2', 't_N_q1c_3', 't_N_q1c_4', 't_N_q1d_1', 't_N_q1d_2', 't_N_q1d_3', 't_N_q1d_4', 't_N_q1e_1', 't_N_q1e_2', 't_N_q1e_3', 't_N_q1e_4', 't_N_q1f_1', 't_N_q1f_2', 't_N_q1f_3', 't_N_q1f_4', 't_N_q1g_1', 't_N_q1g_2', 't_N_q1g_3', 't_N_q1g_4', 't_N_q2a_1', 't_N_q2a_2', 't_N_q2a_3', 't_N_q2a_4', 't_N_q2b_1', 't_N_q2b_2', 't_N_q2b_3', 't_N_q2b_4', 't_N_q2c_1', 't_N_q2c_2', 't_N_q2c_3', 't_N_q2c_4', 't_N_q2d_1', 't_N_q2d_2', 't_N_q2d_3', 't_N_q2d_4', 't_N_q2e_1', 't_N_q2e_2', 't_N_q2e_3', 't_N_q2e_4', 't_N_q2f_1', 't_N_q2f_2', 't_N_q2f_3', 't_N_q2f_4', 't_N_q3a_1', 't_N_q3a_2', 't_N_q3a_3', 't_N_q3b_1', 't_N_q3b_2', 't_N_q3b_3', 't_N_q3c_1', 't_N_q3c_2', 't_N_q3c_3', 't_N_q3d_1', 't_N_q3d_2', 't_N_q3d_3', 't_N_q3e_1', 't_N_q3e_2', 't_N_q3e_3', 't_N_q3f_1', 't_N_q3f_2', 't_N_q3f_3', 't_N_q3g_1', 't_N_q3g_2', 't_N_q3g_3', 't_N_q3h_1', 't_N_q3h_2', 't_N_q3h_3', 't_N_q3i_1', 't_N_q3i_2', 't_N_q3i_3', 't_N_q3j_1', 't_N_q3j_2', 't_N_q3j_3', 't_N_q4_1', 't_N_q4_2', 't_N_q4_3', 't_N_q4_4', 't_N_q5a_1', 't_N_q5a_2', 't_N_q5a_3', 't_N_q5a_4', 't_N_q5a_5', 't_N_q5b_1', 't_N_q5b_2', 't_N_q5b_3', 't_N_q5b_4', 't_N_q5b_5', 't_N_q5c_1', 't_N_q5c_2', 't_N_q5c_3', 't_N_q5c_4', 't_N_q5c_5', 't_N_q6a_1', 't_N_q6a_2', 't_N_q6a_3', 't_N_q6a_4', 't_N_q6b_1', 't_N_q6b_2', 't_N_q6b_3', 't_N_q6b_4', 't_N_q6c_1', 't_N_q6c_2', 't_N_q6c_3', 't_N_q6c_4', 't_N_q6d_1', 't_N_q6d_2', 't_N_q6d_3', 't_N_q6d_4', 't_N_q6e_1', 't_N_q6e_2', 't_N_q6e_3', 't_N_q6e_4', 't_N_q6f_1', 't_N_q6f_2', 't_N_q6f_3', 't_N_q6f_4', 't_N_q6g_1', 't_N_q6g_2', 't_N_q6g_3', 't_N_q6g_4', 't_N_q6h_1', 't_N_q6h_2', 't_N_q6h_3', 't_N_q6h_4', 't_N_q6i_1', 't_N_q6i_2', 't_N_q6i_3', 't_N_q6i_4', 't_N_q6j_1', 't_N_q6j_2', 't_N_q6j_3', 't_N_q6j_4', 't_N_q6k_1', 't_N_q6k_2', 't_N_q6k_3', 't_N_q6k_4', 't_N_q6l_1', 't_N_q6l_2', 't_N_q6l_3', 't_N_q6l_4', 't_N_q6m_1', 't_N_q6m_2', 't_N_q6m_3', 't_N_q6m_4', 't_N_q7a_1', 't_N_q7a_2', 't_N_q7a_3', 't_N_q7a_4', 't_N_q7a_5', 't_N_q7b_1', 't_N_q7b_2', 't_N_q7b_3', 't_N_q7b_4', 't_N_q7b_5', 't_N_q7c_1', 't_N_q7c_2', 't_N_q7c_3', 't_N_q7c_4', 't_N_q7c_5', 't_N_q7d_1', 't_N_q7d_2', 't_N_q7d_3', 't_N_q7d_4', 't_N_q7d_5', 't_N_q7e_1', 't_N_q7e_2', 't_N_q7e_3', 't_N_q7e_4', 't_N_q7e_5', 't_N_q8a_1', 't_N_q8a_2', 't_N_q8a_3', 't_N_q8a_4', 't_N_q8b_1', 't_N_q8b_2', 't_N_q8b_3', 't_N_q8b_4', 't_N_q8c_1', 't_N_q8c_2', 't_N_q8c_3', 't_N_q8c_4', 't_N_q9_1', 't_N_q9_2', 't_N_q9_3', 't_N_q9_4', 't_N_q9_5', 't_q10a', 't_q10a_1', 't_q10a_2', 't_q10a_3', 't_q10a_4', 't_q10a_5', 't_q10a_6', 't_q10b', 't_q10b_1', 't_q10b_2', 't_q10b_3', 't_q10b_4', 't_q10b_5', 't_q10b_6', 't_q10c', 't_q10c_1', 't_q10c_2', 't_q10c_3', 't_q10c_4', 't_q10c_5', 't_q10c_6', 't_q10d', 't_q10d_1', 't_q10d_2', 't_q10d_3', 't_q10d_4', 't_q10d_5', 't_q10d_6', 't_q10e', 't_q10e_1', 't_q10e_2', 't_q10e_3', 't_q10e_4', 't_q10e_5', 't_q10e_6', 't_q11a', 't_q11a_1', 't_q11a_2', 't_q11a_3', 't_q11a_4', 't_q11b', 't_q11b_1', 't_q11b_2', 't_q11b_3', 't_q11b_4', 't_q11c', 't_q11c_1', 't_q11c_2', 't_q11c_3', 't_q11c_4', 't_q11d', 't_q11d_1', 't_q11d_2', 't_q11d_3', 't_q11d_4', 't_q11e', 't_q11e_1', 't_q11e_2', 't_q11e_3', 't_q11e_4', 't_q11f', 't_q11f_1', 't_q11f_2', 't_q11f_3', 't_q11f_4', 't_q11g', 't_q11g_1', 't_q11g_2', 't_q11g_3', 't_q11g_4', 't_q11h', 't_q11h_1', 't_q11h_2', 't_q11h_3', 't_q11h_4', 't_q11i', 't_q11i_1', 't_q11i_2', 't_q11i_3', 't_q11i_4', 't_q11j', 't_q11j_1', 't_q11j_2', 't_q11j_3', 't_q11j_4', 't_q11k', 't_q11k_1', 't_q11k_2', 't_q11k_3', 't_q11k_4', 't_q11l', 't_q11l_1', 't_q11l_2', 't_q11l_3', 't_q11l_4', 't_q11m', 't_q11m_1', 't_q11m_2', 't_q11m_3', 't_q11m_4', 't_q11n', 't_q11n_1', 't_q11n_2', 't_q11n_3', 't_q11n_4', 't_q11o', 't_q11o_1', 't_q11o_2', 't_q11o_3', 't_q11o_4', 't_q12a', 't_q12a_1', 't_q12a_2', 't_q12a_3', 't_q12a_4', 't_q12a_5', 't_q12b', 't_q12b_1', 't_q12b_2', 't_q12b_3', 't_q12b_4', 't_q12b_5', 't_q12c', 't_q12c_1', 't_q12c_2', 't_q12c_3', 't_q12c_4', 't_q12c_5', 't_q12d', 't_q12d_1', 't_q12d_2', 't_q12d_3', 't_q12d_4', 't_q12d_5', 't_q13a', 't_q13a_1', 't_q13a_2', 't_q13a_3', 't_q13a_4', 't_q13a_5', 't_q13b', 't_q13b_1', 't_q13b_2', 't_q13b_3', 't_q13b_4', 't_q13b_5', 't_q13c', 't_q13c_1', 't_q13c_2', 't_q13c_3', 't_q13c_4', 't_q13c_5', 't_q13d', 't_q13d_1', 't_q13d_2', 't_q13d_3', 't_q13d_4', 't_q13d_5', 't_q14', 't_q14_1', 't_q14_2', 't_q14_3', 't_q14_4', 't_q14_5', 't_q15a', 't_q15a_1', 't_q15a_2', 't_q15a_3', 't_q15a_4', 't_q15b', 't_q15b_1', 't_q15b_2', 't_q15b_3', 't_q15b_4', 't_q15c', 't_q15c_1', 't_q15c_2', 't_q15c_3', 't_q15c_4', 't_q15d', 't_q15d_1', 't_q15d_2', 't_q15d_3', 't_q15d_4', 't_q15e', 't_q15e_1', 't_q15e_2', 't_q15e_3', 't_q15e_4', 't_q15f', 't_q15f_1', 't_q15f_2', 't_q15f_3', 't_q15f_4', 't_q1a', 't_q1a_1', 't_q1a_2', 't_q1a_3', 't_q1a_4', 't_q1b', 't_q1b_1', 't_q1b_2', 't_q1b_3', 't_q1b_4', 't_q1c', 't_q1c_1', 't_q1c_2', 't_q1c_3', 't_q1c_4', 't_q1d', 't_q1d_1', 't_q1d_2', 't_q1d_3', 't_q1d_4', 't_q1e', 't_q1e_1', 't_q1e_2', 't_q1e_3', 't_q1e_4', 't_q1f', 't_q1f_1', 't_q1f_2', 't_q1f_3', 't_q1f_4', 't_q1g', 't_q1g_1', 't_q1g_2', 't_q1g_3', 't_q1g_4', 't_q2a', 't_q2a_1', 't_q2a_2', 't_q2a_3', 't_q2a_4', 't_q2b', 't_q2b_1', 't_q2b_2', 't_q2b_3', 't_q2b_4', 't_q2c', 't_q2c_1', 't_q2c_2', 't_q2c_3', 't_q2c_4', 't_q2d', 't_q2d_1', 't_q2d_2', 't_q2d_3', 't_q2d_4', 't_q2e', 't_q2e_1', 't_q2e_2', 't_q2e_3', 't_q2e_4', 't_q2f', 't_q2f_1', 't_q2f_2', 't_q2f_3', 't_q2f_4', 't_q3_1', 't_q3_2', 't_q3a_1', 't_q3a_2', 't_q3a_3', 't_q3b_1', 't_q3b_2', 't_q3b_3', 't_q3c_1', 't_q3c_2', 't_q3c_3', 't_q3d_1', 't_q3d_2', 't_q3d_3', 't_q3e_1', 't_q3e_2', 't_q3e_3', 't_q3f_1', 't_q3f_2', 't_q3f_3', 't_q3g_1', 't_q3g_2', 't_q3g_3', 't_q3h_1', 't_q3h_2', 't_q3h_3', 't_q3i_1', 't_q3i_2', 't_q3i_3', 't_q3j_1', 't_q3j_2', 't_q3j_3', 't_q4', 't_q4_1', 't_q4_2', 't_q4_3', 't_q4_4', 't_q5a', 't_q5a_1', 't_q5a_2', 't_q5a_3', 't_q5a_4', 't_q5a_5', 't_q5b', 't_q5b_1', 't_q5b_2', 't_q5b_3', 't_q5b_4', 't_q5b_5', 't_q5c', 't_q5c_1', 't_q5c_2', 't_q5c_3', 't_q5c_4', 't_q5c_5', 't_q6a', 't_q6a_1', 't_q6a_2', 't_q6a_3', 't_q6a_4', 't_q6b', 't_q6b_1', 't_q6b_2', 't_q6b_3', 't_q6b_4', 't_q6c', 't_q6c_1', 't_q6c_2', 't_q6c_3', 't_q6c_4', 't_q6d', 't_q6d_1', 't_q6d_2', 't_q6d_3', 't_q6d_4', 't_q6e', 't_q6e_1', 't_q6e_2', 't_q6e_3', 't_q6e_4', 't_q6f', 't_q6f_1', 't_q6f_2', 't_q6f_3', 't_q6f_4', 't_q6g', 't_q6g_1', 't_q6g_2', 't_q6g_3', 't_q6g_4', 't_q6h', 't_q6h_1', 't_q6h_2', 't_q6h_3', 't_q6h_4', 't_q6i', 't_q6i_1', 't_q6i_2', 't_q6i_3', 't_q6i_4', 't_q6j', 't_q6j_1', 't_q6j_2', 't_q6j_3', 't_q6j_4', 't_q6k', 't_q6k_1', 't_q6k_2', 't_q6k_3', 't_q6k_4', 't_q6l', 't_q6l_1', 't_q6l_2', 't_q6l_3', 't_q6l_4', 't_q6m', 't_q6m_1', 't_q6m_2', 't_q6m_3', 't_q6m_4', 't_q7a', 't_q7a_1', 't_q7a_2', 't_q7a_3', 't_q7a_4', 't_q7a_5', 't_q7b', 't_q7b_1', 't_q7b_2', 't_q7b_3', 't_q7b_4', 't_q7b_5', 't_q7c', 't_q7c_1', 't_q7c_2', 't_q7c_3', 't_q7c_4', 't_q7c_5', 't_q7d', 't_q7d_1', 't_q7d_2', 't_q7d_3', 't_q7d_4', 't_q7d_5', 't_q7e', 't_q7e_1', 't_q7e_2', 't_q7e_3', 't_q7e_4', 't_q7e_5', 't_q8a', 't_q8a_1', 't_q8a_2', 't_q8a_3', 't_q8a_4', 't_q8b', 't_q8b_1', 't_q8b_2', 't_q8b_3', 't_q8b_4', 't_q8c', 't_q8c_1', 't_q8c_2', 't_q8c_3', 't_q8c_4', 't_q9', 't_q9_1', 't_q9_2', 't_q9_3', 't_q9_4', 't_q9_5', 'expgrade_span_min', 'priority08', 'priority09', 'priority10', 'lat', 'long']\n"
          ],
          "name": "stdout"
        }
      ]
    },
    {
      "cell_type": "code",
      "metadata": {
        "id": "X3t0sysp5A72",
        "colab_type": "code",
        "colab": {}
      },
      "source": [
        "fileout = folder+'combined.pkl'\n",
        "pd.to_pickle(combined, fileout)"
      ],
      "execution_count": null,
      "outputs": []
    }
  ]
}